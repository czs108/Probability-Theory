{
 "cells": [
  {
   "cell_type": "markdown",
   "metadata": {},
   "source": [
    "# Combination - Passwords & Students\n",
    "\n",
    "> This document is written in *R*.\n",
    ">\n",
    "> ***GitHub***: https://github.com/czs108"
   ]
  },
  {
   "cell_type": "markdown",
   "metadata": {},
   "source": [
    "## Question A\n",
    "\n",
    "> If passwords can consist of **6** *letters*, find the probability that a randomly chosen password will *not* have any *repeated* letters."
   ]
  },
  {
   "cell_type": "markdown",
   "metadata": {},
   "source": [
    "\\begin{equation}\n",
    "P = \\frac{26 \\times 25 \\times \\cdots \\times 21}{26^{6}}\n",
    "\\end{equation}"
   ]
  },
  {
   "cell_type": "code",
   "execution_count": 1,
   "metadata": {},
   "outputs": [
    {
     "data": {
      "text/html": [
       "0.53777"
      ],
      "text/latex": [
       "0.53777"
      ],
      "text/markdown": [
       "0.53777"
      ],
      "text/plain": [
       "[1] 0.53777"
      ]
     },
     "metadata": {},
     "output_type": "display_data"
    }
   ],
   "source": [
    "norpt <- 0\n",
    "count <- 100000\n",
    "for (i in c(1:count)) {\n",
    "    pwd <- sample(x=letters, size=6, replace=TRUE)\n",
    "    if (length(unique(pwd)) == 6) {\n",
    "        norpt <- norpt + 1\n",
    "    }\n",
    "}\n",
    "\n",
    "norpt / count"
   ]
  },
  {
   "cell_type": "markdown",
   "metadata": {},
   "source": [
    "## Question B\n",
    "\n",
    "> How many ways can you get a sample of **6** letters *without* *repeated* letters, if the order does *not* matter?"
   ]
  },
  {
   "cell_type": "markdown",
   "metadata": {},
   "source": [
    "\\begin{equation}\n",
    "^{26}C_6 = \\frac{26!}{6! \\times 20!}\n",
    "\\end{equation}"
   ]
  },
  {
   "cell_type": "code",
   "execution_count": 2,
   "metadata": {},
   "outputs": [
    {
     "data": {
      "text/html": [
       "230230"
      ],
      "text/latex": [
       "230230"
      ],
      "text/markdown": [
       "230230"
      ],
      "text/plain": [
       "[1] 230230"
      ]
     },
     "metadata": {},
     "output_type": "display_data"
    }
   ],
   "source": [
    "choose(n=26, k=6)"
   ]
  },
  {
   "cell_type": "markdown",
   "metadata": {},
   "source": [
    "## Question C\n",
    "\n",
    "> Use the `sample` command to simulate tossing a coin **10000** times. You can use a `for` loop and record the result of each toss. Then you can the use `table` command to find how often you got *heads* or *tails*."
   ]
  },
  {
   "cell_type": "code",
   "execution_count": 3,
   "metadata": {},
   "outputs": [
    {
     "data": {
      "text/plain": [
       "res\n",
       "  Head   Tail \n",
       "0.5015 0.4985 "
      ]
     },
     "metadata": {},
     "output_type": "display_data"
    }
   ],
   "source": [
    "res <- sample(x=c(\"Head\", \"Tail\"), size=10000, replace=TRUE)\n",
    "\n",
    "prop.table(table(res))"
   ]
  },
  {
   "cell_type": "markdown",
   "metadata": {},
   "source": [
    "## Question D\n",
    "\n",
    "> If a class contains **60** *females* and **40** *males* and you choose a random sample of **5** students from the class, what is the probability of getting **5** *females*?"
   ]
  },
  {
   "cell_type": "markdown",
   "metadata": {},
   "source": [
    "\\begin{equation}\n",
    "P = \\frac{^{60}C_5}{^{100}C_{5}}\n",
    "\\end{equation}"
   ]
  },
  {
   "cell_type": "code",
   "execution_count": 4,
   "metadata": {},
   "outputs": [
    {
     "data": {
      "text/html": [
       "0.0725420627482483"
      ],
      "text/latex": [
       "0.0725420627482483"
      ],
      "text/markdown": [
       "0.0725420627482483"
      ],
      "text/plain": [
       "[1] 0.07254206"
      ]
     },
     "metadata": {},
     "output_type": "display_data"
    }
   ],
   "source": [
    "choose(n=60, k=5) / choose(n=100, k=5)"
   ]
  },
  {
   "cell_type": "markdown",
   "metadata": {},
   "source": [
    "Check the *Hypergeometric Distribution*."
   ]
  },
  {
   "cell_type": "code",
   "execution_count": 5,
   "metadata": {},
   "outputs": [
    {
     "data": {
      "text/html": [
       "<ol class=list-inline>\n",
       "\t<li>0.00873993458676817</li>\n",
       "\t<li>0.072832788223068</li>\n",
       "\t<li>0.232277540819514</li>\n",
       "\t<li>0.354528878092943</li>\n",
       "\t<li>0.259078795529458</li>\n",
       "\t<li>0.0725420627482483</li>\n",
       "</ol>\n"
      ],
      "text/latex": [
       "\\begin{enumerate*}\n",
       "\\item 0.00873993458676817\n",
       "\\item 0.072832788223068\n",
       "\\item 0.232277540819514\n",
       "\\item 0.354528878092943\n",
       "\\item 0.259078795529458\n",
       "\\item 0.0725420627482483\n",
       "\\end{enumerate*}\n"
      ],
      "text/markdown": [
       "1. 0.00873993458676817\n",
       "2. 0.072832788223068\n",
       "3. 0.232277540819514\n",
       "4. 0.354528878092943\n",
       "5. 0.259078795529458\n",
       "6. 0.0725420627482483\n",
       "\n",
       "\n"
      ],
      "text/plain": [
       "[1] 0.008739935 0.072832788 0.232277541 0.354528878 0.259078796 0.072542063"
      ]
     },
     "metadata": {},
     "output_type": "display_data"
    }
   ],
   "source": [
    "dhyper(x=c(0:5), m=60, n=40, k=5)"
   ]
  },
  {
   "cell_type": "markdown",
   "metadata": {},
   "source": [
    "## Question E\n",
    "\n",
    "> Use the `sample` command to simulate the situation in *Question D*. Repeat the sample **10000** times. How often do you get **5** *females*?"
   ]
  },
  {
   "cell_type": "code",
   "execution_count": 6,
   "metadata": {},
   "outputs": [
    {
     "data": {
      "text/html": [
       "0.0771"
      ],
      "text/latex": [
       "0.0771"
      ],
      "text/markdown": [
       "0.0771"
      ],
      "text/plain": [
       "[1] 0.0771"
      ]
     },
     "metadata": {},
     "output_type": "display_data"
    }
   ],
   "source": [
    "students <- c(rep(\"Male\", 40), rep(\"Female\", 60))\n",
    "noman <- 0\n",
    "count <- 10000\n",
    "for (i in c(1:count)) {\n",
    "    group <- sample(x=students, size=5)\n",
    "    if (group[1] == \"Female\" && length(unique(group)) == 1) {\n",
    "        noman <- noman + 1\n",
    "    }\n",
    "}\n",
    "\n",
    "noman / count"
   ]
  }
 ],
 "metadata": {
  "kernelspec": {
   "display_name": "R",
   "language": "R",
   "name": "ir"
  },
  "language_info": {
   "codemirror_mode": "r",
   "file_extension": ".r",
   "mimetype": "text/x-r-source",
   "name": "R",
   "pygments_lexer": "r",
   "version": "3.6.1"
  }
 },
 "nbformat": 4,
 "nbformat_minor": 4
}