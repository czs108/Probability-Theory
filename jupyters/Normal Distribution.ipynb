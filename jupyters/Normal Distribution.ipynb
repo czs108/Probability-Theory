{
 "cells": [
  {
   "cell_type": "markdown",
   "metadata": {},
   "source": [
    "# Normal Distribution\n",
    "\n",
    "> ***GitHub***: https://github.com/czs108"
   ]
  },
  {
   "cell_type": "markdown",
   "metadata": {},
   "source": [
    "## Definition\n",
    "\n",
    "The *Normal Distribution* is in the shape of a bell curve. The curve is *symmetrical*, with the *highest* probability density in the *center* of the curve. The probability density *decreases* when getting away from the *mean*. Both the *mean* and *median* are at the center and have the highest probability density.\n",
    "\n",
    "The *Normal Distribution* is defined by **2** parameters. $\\mu$ is where the center of the curve is, and $\\sigma^{2}$ is the spread. If a continuous random variable $X$ follows a *Normal Distribution* with *mean* $\\mu$ and *standard deviation* $\\sigma$, this is generally written as:\n",
    "\n",
    "\\begin{equation}\n",
    "X \\sim N(\\mu,\\, \\sigma^{2})\n",
    "\\end{equation}\n",
    "\n",
    "As $\\sigma^{2}$ gets *larger*, the *flatter* and *wider* the normal curve becomes."
   ]
  },
  {
   "cell_type": "markdown",
   "metadata": {},
   "source": [
    "## Expectation\n",
    "\n",
    "\\begin{equation}\n",
    "E(X) = \\mu\n",
    "\\end{equation}"
   ]
  },
  {
   "cell_type": "markdown",
   "metadata": {},
   "source": [
    "## Variance\n",
    "\n",
    "\\begin{equation}\n",
    "Var(X) = \\sigma^{2}\n",
    "\\end{equation}"
   ]
  },
  {
   "cell_type": "markdown",
   "metadata": {},
   "source": [
    "## Calculating\n",
    "\n",
    "### Standardization\n",
    "\n",
    "\\begin{equation}\n",
    "Z = \\frac{X - \\mu}{\\sigma}\n",
    "\\end{equation}"
   ]
  },
  {
   "cell_type": "markdown",
   "metadata": {},
   "source": [
    "### Probability Table\n",
    "\n",
    "Start off by calculating $z$ to **2** decimal places, then read off the corresponding probability $P(Z < z)$.\n",
    "\n",
    "The *1st* *column* gives the value of $z$ to **1** decimal place (without rounding), and the top *row* gives the *2nd* decimal place. The probability is where the two intersect.\n",
    "\n",
    "| z       | .00    | .01    | .02    | .03    | .04    | ...  |\n",
    "| ------- | ------ | ------ | ------ | ------ | ------ | ---- |\n",
    "| **0.0** | 0.5000 | 0.5040 | 0.5080 | 0.5120 | 0.5160 | ...  |\n",
    "| **0.1** | 0.5398 | 0.5438 | 0.5478 | 0.5517 | 0.5557 | ...  |\n",
    "| ...     | ...    | ...    | ...    | ...    | ...    | ...  |\n",
    "\n",
    "For example, if you wanted to find $P(Z < 0.12)$, you'd find **0.1** in the *1st* column, **.02** in the top row, and read off a probability of **0.5478**."
   ]
  },
  {
   "cell_type": "markdown",
   "metadata": {},
   "source": [
    "## Approximation\n",
    "\n",
    "Suppose $q$ is $(1 - p)$, a *Binomial Distribution* $X \\sim B(n,\\, p)$ can be approximated by $X \\sim N(np,\\, npq)$ normally if $np > 5$ and $nq > 5$."
   ]
  }
 ],
 "metadata": {
  "kernelspec": {
   "display_name": "R",
   "language": "R",
   "name": "ir"
  },
  "language_info": {
   "codemirror_mode": "r",
   "file_extension": ".r",
   "mimetype": "text/x-r-source",
   "name": "R",
   "pygments_lexer": "r",
   "version": "3.6.1"
  }
 },
 "nbformat": 4,
 "nbformat_minor": 4
}