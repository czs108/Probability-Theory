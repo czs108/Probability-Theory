{
 "cells": [
  {
   "cell_type": "markdown",
   "metadata": {},
   "source": [
    "# Binomial Distribution - Waiting Time\n",
    "\n",
    "> This document is written in *R*.\n",
    ">\n",
    "> ***GitHub***: https://github.com/czs108"
   ]
  },
  {
   "cell_type": "markdown",
   "metadata": {},
   "source": [
    "## Background\n",
    "\n",
    "> Suppose in a certain call centre, phone calls arrive at an *average* rate of **6** per *minute*. This means that the probability of a call arriving in any given *second* must be **0.1**.\n",
    ">\n",
    "> Simulate this process using a *Binomial Distribution* with a sample size of **60**. Each member of the sample represents a *second*.\n",
    ">\n",
    "> If a phone call arrives during a particular second then the corresponding member will be **1**. If no phone call arrives during a particular second, then the corresponding member will be **0**."
   ]
  },
  {
   "cell_type": "markdown",
   "metadata": {},
   "source": [
    "## Question A\n",
    "\n",
    "> Use the function `sample` to generate a sample of **60** *seconds*."
   ]
  },
  {
   "cell_type": "code",
   "execution_count": 1,
   "metadata": {},
   "outputs": [
    {
     "name": "stdout",
     "output_type": "stream",
     "text": [
      " [1] 0 1 0 0 0 0 0 0 0 0\n",
      " [1] 0 0 0 1 0 0 0 0 0 0\n",
      " [1] 0 0 0 0 0 0 0 0 0 0\n",
      " [1] 0 0 0 1 0 0 0 0 0 0\n",
      " [1] 0 0 0 1 0 0 0 0 0 0\n",
      " [1] 0 0 0 0 0 0 0 0 0 0\n"
     ]
    }
   ],
   "source": [
    "res <- sample(x=c(1, 0), size=60, replace=TRUE, prob=c(0.1, 0.9))\n",
    "\n",
    "for (i in c(1:6)) {\n",
    "    end <- i * 10\n",
    "    idx <- c((end - 9):end)\n",
    "    print(res[idx])\n",
    "}"
   ]
  },
  {
   "cell_type": "markdown",
   "metadata": {},
   "source": [
    "## Question B\n",
    "\n",
    "> In order to simulate a distribution, we need to generate a large number of samples.\n",
    ">\n",
    "> You can do this using a `for` loop. At each iteration you should record the value of $X$, the number phone calls arriving in the sample."
   ]
  },
  {
   "cell_type": "code",
   "execution_count": 2,
   "metadata": {},
   "outputs": [
    {
     "data": {
      "image/png": "[encoded data removed]",
      "text/plain": [
       "plot without title"
      ]
     },
     "metadata": {},
     "output_type": "display_data"
    }
   ],
   "source": [
    "trials <- 10000\n",
    "phones <- c(rep(0, trials))\n",
    "for (i in c(1:trials)) {\n",
    "    res <- sample(x=c(1, 0), size=60, replace=TRUE, prob=c(0.1, 0.9))\n",
    "    phones[i] <- sum(res)\n",
    "}\n",
    "\n",
    "barplot(phones, ylab=\"Number of phone calls in a minute\")"
   ]
  },
  {
   "cell_type": "markdown",
   "metadata": {},
   "source": [
    "## Question C\n",
    "\n",
    "> Use the `table` function to compute the distribution over the different values of $X$.\n",
    ">\n",
    "> Plot the distribution using the `plot` function."
   ]
  },
  {
   "cell_type": "code",
   "execution_count": 3,
   "metadata": {},
   "outputs": [
    {
     "data": {
      "text/plain": [
       "phones\n",
       "     0      1      2      3      4      5      6      7      8      9     10 \n",
       "0.0011 0.0109 0.0382 0.0866 0.1370 0.1673 0.1679 0.1452 0.1047 0.0695 0.0354 \n",
       "    11     12     13     14     15     16     17     18 \n",
       "0.0203 0.0090 0.0043 0.0018 0.0005 0.0001 0.0001 0.0001 "
      ]
     },
     "metadata": {},
     "output_type": "display_data"
    }
   ],
   "source": [
    "probs <- prop.table(table(phones))\n",
    "probs"
   ]
  },
  {
   "cell_type": "code",
   "execution_count": 4,
   "metadata": {},
   "outputs": [
    {
     "data": {
      "image/png": "[encoded data removed]",
      "text/plain": [
       "plot without title"
      ]
     },
     "metadata": {},
     "output_type": "display_data"
    }
   ],
   "source": [
    "plot(probs, xlab=\"Number of phone calls in a minute\", ylab=\"Probability\")"
   ]
  },
  {
   "cell_type": "markdown",
   "metadata": {},
   "source": [
    "## Question D\n",
    "\n",
    "> Compute the true distribution using the formula for the *Binomial Distribution*.\n",
    ">\n",
    "> Plot the true distribution using the `points` function."
   ]
  },
  {
   "cell_type": "code",
   "execution_count": 5,
   "metadata": {},
   "outputs": [
    {
     "data": {
      "text/html": [
       "<ol class=list-inline>\n",
       "\t<li>0.00179701029991443</li>\n",
       "\t<li>0.0119800686660962</li>\n",
       "\t<li>0.0392680028499821</li>\n",
       "\t<li>0.0843534876036652</li>\n",
       "\t<li>0.133559688705803</li>\n",
       "\t<li>0.166207612611666</li>\n",
       "\t<li>0.169285531363734</li>\n",
       "\t<li>0.145101884026058</li>\n",
       "\t<li>0.106811109074737</li>\n",
       "\t<li>0.068570094714646</li>\n",
       "\t<li>0.0388563870049661</li>\n",
       "\t<li>0.019624437881296</li>\n",
       "\t<li>0.00890368014984726</li>\n",
       "\t<li>0.00365279185634759</li>\n",
       "\t<li>0.00136254934324077</li>\n",
       "\t<li>0.000464276072511669</li>\n",
       "\t<li>0.000145086272659897</li>\n",
       "\t<li>4.1724156843369e-05</li>\n",
       "\t<li>1.10749305201535e-05</li>\n",
       "\t<li>2.72015837337103e-06</li>\n",
       "\t<li>6.19591629490069e-07</li>\n",
       "\t<li>1.31130503595782e-07</li>\n",
       "\t<li>2.58287355567449e-08</li>\n",
       "\t<li>4.74150701041694e-09</li>\n",
       "\t<li>8.12202589747346e-10</li>\n",
       "\t<li>1.29952414359575e-10</li>\n",
       "\t<li>1.94373269341245e-11</li>\n",
       "\t<li>2.71962599078285e-12</li>\n",
       "\t<li>3.56141498792993e-13</li>\n",
       "\t<li>4.36648580895624e-14</li>\n",
       "\t<li>5.01337259546826e-15</li>\n",
       "\t<li>5.39072322093362e-16</li>\n",
       "\t<li>5.42815879885677e-17</li>\n",
       "\t<li>5.11745610666632e-18</li>\n",
       "\t<li>4.51540244705852e-19</li>\n",
       "\t<li>3.72699884519116e-20</li>\n",
       "\t<li>2.87577071388206e-21</li>\n",
       "\t<li>2.07262754153662e-22</li>\n",
       "\t<li>1.39387232325562e-23</li>\n",
       "\t<li>8.73652168422329e-25</li>\n",
       "\t<li>5.09630431579692e-26</li>\n",
       "\t<li>2.76222456140754e-27</li>\n",
       "\t<li>1.38841975308845e-28</li>\n",
       "\t<li>6.45776629343464e-30</li>\n",
       "\t<li>2.7722734087977e-31</li>\n",
       "\t<li>1.09521912446329e-32</li>\n",
       "\t<li>3.96818523356264e-34</li>\n",
       "\t<li>1.31334735862593e-35</li>\n",
       "\t<li>3.95220269956878e-37</li>\n",
       "\t<li>1.07542930600511e-38</li>\n",
       "\t<li>2.62882719245694e-40</li>\n",
       "\t<li>5.72729235829398e-42</li>\n",
       "\t<li>1.101402376595e-43</li>\n",
       "\t<li>1.84721572594549e-45</li>\n",
       "\t<li>2.66059878222601e-47</li>\n",
       "\t<li>3.22496822088001e-49</li>\n",
       "\t<li>3.19937323500001e-51</li>\n",
       "\t<li>2.49463800000001e-53</li>\n",
       "\t<li>1.4337e-55</li>\n",
       "\t<li>5.40000000000002e-58</li>\n",
       "\t<li>1e-60</li>\n",
       "</ol>\n"
      ],
      "text/latex": [
       "\\begin{enumerate*}\n",
       "\\item 0.00179701029991443\n",
       "\\item 0.0119800686660962\n",
       "\\item 0.0392680028499821\n",
       "\\item 0.0843534876036652\n",
       "\\item 0.133559688705803\n",
       "\\item 0.166207612611666\n",
       "\\item 0.169285531363734\n",
       "\\item 0.145101884026058\n",
       "\\item 0.106811109074737\n",
       "\\item 0.068570094714646\n",
       "\\item 0.0388563870049661\n",
       "\\item 0.019624437881296\n",
       "\\item 0.00890368014984726\n",
       "\\item 0.00365279185634759\n",
       "\\item 0.00136254934324077\n",
       "\\item 0.000464276072511669\n",
       "\\item 0.000145086272659897\n",
       "\\item 4.1724156843369e-05\n",
       "\\item 1.10749305201535e-05\n",
       "\\item 2.72015837337103e-06\n",
       "\\item 6.19591629490069e-07\n",
       "\\item 1.31130503595782e-07\n",
       "\\item 2.58287355567449e-08\n",
       "\\item 4.74150701041694e-09\n",
       "\\item 8.12202589747346e-10\n",
       "\\item 1.29952414359575e-10\n",
       "\\item 1.94373269341245e-11\n",
       "\\item 2.71962599078285e-12\n",
       "\\item 3.56141498792993e-13\n",
       "\\item 4.36648580895624e-14\n",
       "\\item 5.01337259546826e-15\n",
       "\\item 5.39072322093362e-16\n",
       "\\item 5.42815879885677e-17\n",
       "\\item 5.11745610666632e-18\n",
       "\\item 4.51540244705852e-19\n",
       "\\item 3.72699884519116e-20\n",
       "\\item 2.87577071388206e-21\n",
       "\\item 2.07262754153662e-22\n",
       "\\item 1.39387232325562e-23\n",
       "\\item 8.73652168422329e-25\n",
       "\\item 5.09630431579692e-26\n",
       "\\item 2.76222456140754e-27\n",
       "\\item 1.38841975308845e-28\n",
       "\\item 6.45776629343464e-30\n",
       "\\item 2.7722734087977e-31\n",
       "\\item 1.09521912446329e-32\n",
       "\\item 3.96818523356264e-34\n",
       "\\item 1.31334735862593e-35\n",
       "\\item 3.95220269956878e-37\n",
       "\\item 1.07542930600511e-38\n",
       "\\item 2.62882719245694e-40\n",
       "\\item 5.72729235829398e-42\n",
       "\\item 1.101402376595e-43\n",
       "\\item 1.84721572594549e-45\n",
       "\\item 2.66059878222601e-47\n",
       "\\item 3.22496822088001e-49\n",
       "\\item 3.19937323500001e-51\n",
       "\\item 2.49463800000001e-53\n",
       "\\item 1.4337e-55\n",
       "\\item 5.40000000000002e-58\n",
       "\\item 1e-60\n",
       "\\end{enumerate*}\n"
      ],
      "text/markdown": [
       "1. 0.00179701029991443\n",
       "2. 0.0119800686660962\n",
       "3. 0.0392680028499821\n",
       "4. 0.0843534876036652\n",
       "5. 0.133559688705803\n",
       "6. 0.166207612611666\n",
       "7. 0.169285531363734\n",
       "8. 0.145101884026058\n",
       "9. 0.106811109074737\n",
       "10. 0.068570094714646\n",
       "11. 0.0388563870049661\n",
       "12. 0.019624437881296\n",
       "13. 0.00890368014984726\n",
       "14. 0.00365279185634759\n",
       "15. 0.00136254934324077\n",
       "16. 0.000464276072511669\n",
       "17. 0.000145086272659897\n",
       "18. 4.1724156843369e-05\n",
       "19. 1.10749305201535e-05\n",
       "20. 2.72015837337103e-06\n",
       "21. 6.19591629490069e-07\n",
       "22. 1.31130503595782e-07\n",
       "23. 2.58287355567449e-08\n",
       "24. 4.74150701041694e-09\n",
       "25. 8.12202589747346e-10\n",
       "26. 1.29952414359575e-10\n",
       "27. 1.94373269341245e-11\n",
       "28. 2.71962599078285e-12\n",
       "29. 3.56141498792993e-13\n",
       "30. 4.36648580895624e-14\n",
       "31. 5.01337259546826e-15\n",
       "32. 5.39072322093362e-16\n",
       "33. 5.42815879885677e-17\n",
       "34. 5.11745610666632e-18\n",
       "35. 4.51540244705852e-19\n",
       "36. 3.72699884519116e-20\n",
       "37. 2.87577071388206e-21\n",
       "38. 2.07262754153662e-22\n",
       "39. 1.39387232325562e-23\n",
       "40. 8.73652168422329e-25\n",
       "41. 5.09630431579692e-26\n",
       "42. 2.76222456140754e-27\n",
       "43. 1.38841975308845e-28\n",
       "44. 6.45776629343464e-30\n",
       "45. 2.7722734087977e-31\n",
       "46. 1.09521912446329e-32\n",
       "47. 3.96818523356264e-34\n",
       "48. 1.31334735862593e-35\n",
       "49. 3.95220269956878e-37\n",
       "50. 1.07542930600511e-38\n",
       "51. 2.62882719245694e-40\n",
       "52. 5.72729235829398e-42\n",
       "53. 1.101402376595e-43\n",
       "54. 1.84721572594549e-45\n",
       "55. 2.66059878222601e-47\n",
       "56. 3.22496822088001e-49\n",
       "57. 3.19937323500001e-51\n",
       "58. 2.49463800000001e-53\n",
       "59. 1.4337e-55\n",
       "60. 5.40000000000002e-58\n",
       "61. 1e-60\n",
       "\n",
       "\n"
      ],
      "text/plain": [
       " [1] 1.797010e-03 1.198007e-02 3.926800e-02 8.435349e-02 1.335597e-01\n",
       " [6] 1.662076e-01 1.692855e-01 1.451019e-01 1.068111e-01 6.857009e-02\n",
       "[11] 3.885639e-02 1.962444e-02 8.903680e-03 3.652792e-03 1.362549e-03\n",
       "[16] 4.642761e-04 1.450863e-04 4.172416e-05 1.107493e-05 2.720158e-06\n",
       "[21] 6.195916e-07 1.311305e-07 2.582874e-08 4.741507e-09 8.122026e-10\n",
       "[26] 1.299524e-10 1.943733e-11 2.719626e-12 3.561415e-13 4.366486e-14\n",
       "[31] 5.013373e-15 5.390723e-16 5.428159e-17 5.117456e-18 4.515402e-19\n",
       "[36] 3.726999e-20 2.875771e-21 2.072628e-22 1.393872e-23 8.736522e-25\n",
       "[41] 5.096304e-26 2.762225e-27 1.388420e-28 6.457766e-30 2.772273e-31\n",
       "[46] 1.095219e-32 3.968185e-34 1.313347e-35 3.952203e-37 1.075429e-38\n",
       "[51] 2.628827e-40 5.727292e-42 1.101402e-43 1.847216e-45 2.660599e-47\n",
       "[56] 3.224968e-49 3.199373e-51 2.494638e-53 1.433700e-55 5.400000e-58\n",
       "[61] 1.000000e-60"
      ]
     },
     "metadata": {},
     "output_type": "display_data"
    }
   ],
   "source": [
    "p <- 0.1\n",
    "phones <- c(0:60)\n",
    "\n",
    "probs.true <- choose(n=60, k=phones) * (p ^ phones) * (1 - p) ^ (60 - phones)\n",
    "probs.true"
   ]
  },
  {
   "cell_type": "markdown",
   "metadata": {},
   "source": [
    "Use the `dbinom` function directly."
   ]
  },
  {
   "cell_type": "code",
   "execution_count": 6,
   "metadata": {},
   "outputs": [
    {
     "data": {
      "text/html": [
       "<ol class=list-inline>\n",
       "\t<li>0.00179701029991443</li>\n",
       "\t<li>0.0119800686660962</li>\n",
       "\t<li>0.039268002849982</li>\n",
       "\t<li>0.0843534876036651</li>\n",
       "\t<li>0.133559688705803</li>\n",
       "\t<li>0.166207612611666</li>\n",
       "</ol>\n"
      ],
      "text/latex": [
       "\\begin{enumerate*}\n",
       "\\item 0.00179701029991443\n",
       "\\item 0.0119800686660962\n",
       "\\item 0.039268002849982\n",
       "\\item 0.0843534876036651\n",
       "\\item 0.133559688705803\n",
       "\\item 0.166207612611666\n",
       "\\end{enumerate*}\n"
      ],
      "text/markdown": [
       "1. 0.00179701029991443\n",
       "2. 0.0119800686660962\n",
       "3. 0.039268002849982\n",
       "4. 0.0843534876036651\n",
       "5. 0.133559688705803\n",
       "6. 0.166207612611666\n",
       "\n",
       "\n"
      ],
      "text/plain": [
       "[1] 0.00179701 0.01198007 0.03926800 0.08435349 0.13355969 0.16620761"
      ]
     },
     "metadata": {},
     "output_type": "display_data"
    }
   ],
   "source": [
    "dbinom(x=c(0:5), prob=p, size=60)"
   ]
  },
  {
   "cell_type": "code",
   "execution_count": 7,
   "metadata": {},
   "outputs": [
    {
     "data": {
      "image/png": "[encoded data removed]",
      "text/plain": [
       "plot without title"
      ]
     },
     "metadata": {},
     "output_type": "display_data"
    }
   ],
   "source": [
    "plot(probs, xlab=\"Number of phone calls in a minute\", ylab=\"Probability\")\n",
    "points(probs.true ~ phones, col=\"red\")"
   ]
  },
  {
   "cell_type": "markdown",
   "metadata": {},
   "source": [
    "## Question E\n",
    "\n",
    "> Compute the distribution over the possible waiting times for the *1st* call."
   ]
  },
  {
   "cell_type": "markdown",
   "metadata": {},
   "source": [
    "It's a *Geometric Distribution*."
   ]
  },
  {
   "cell_type": "code",
   "execution_count": 8,
   "metadata": {},
   "outputs": [
    {
     "data": {
      "text/html": [
       "<ol class=list-inline>\n",
       "\t<li>0.1</li>\n",
       "\t<li>0.09</li>\n",
       "\t<li>0.081</li>\n",
       "\t<li>0.0729</li>\n",
       "\t<li>0.06561</li>\n",
       "\t<li>0.059049</li>\n",
       "\t<li>0.0531441</li>\n",
       "\t<li>0.04782969</li>\n",
       "\t<li>0.043046721</li>\n",
       "\t<li>0.0387420489</li>\n",
       "\t<li>0.03486784401</li>\n",
       "\t<li>0.031381059609</li>\n",
       "\t<li>0.0282429536481</li>\n",
       "\t<li>0.02541865828329</li>\n",
       "\t<li>0.022876792454961</li>\n",
       "\t<li>0.0205891132094649</li>\n",
       "\t<li>0.0185302018885184</li>\n",
       "\t<li>0.0166771816996666</li>\n",
       "\t<li>0.0150094635296999</li>\n",
       "\t<li>0.0135085171767299</li>\n",
       "\t<li>0.0121576654590569</li>\n",
       "\t<li>0.0109418989131512</li>\n",
       "\t<li>0.00984770902183612</li>\n",
       "\t<li>0.00886293811965251</li>\n",
       "\t<li>0.00797664430768726</li>\n",
       "\t<li>0.00717897987691853</li>\n",
       "\t<li>0.00646108188922668</li>\n",
       "\t<li>0.00581497370030401</li>\n",
       "\t<li>0.00523347633027361</li>\n",
       "\t<li>0.00471012869724625</li>\n",
       "\t<li>0.00423911582752162</li>\n",
       "\t<li>0.00381520424476946</li>\n",
       "\t<li>0.00343368382029252</li>\n",
       "\t<li>0.00309031543826326</li>\n",
       "\t<li>0.00278128389443694</li>\n",
       "\t<li>0.00250315550499324</li>\n",
       "\t<li>0.00225283995449392</li>\n",
       "\t<li>0.00202755595904453</li>\n",
       "\t<li>0.00182480036314007</li>\n",
       "\t<li>0.00164232032682607</li>\n",
       "\t<li>0.00147808829414346</li>\n",
       "\t<li>0.00133027946472911</li>\n",
       "\t<li>0.0011972515182562</li>\n",
       "\t<li>0.00107752636643058</li>\n",
       "\t<li>0.000969773729787525</li>\n",
       "\t<li>0.000872796356808772</li>\n",
       "\t<li>0.000785516721127895</li>\n",
       "\t<li>0.000706965049015106</li>\n",
       "\t<li>0.000636268544113595</li>\n",
       "\t<li>0.000572641689702235</li>\n",
       "\t<li>0.000515377520732012</li>\n",
       "\t<li>0.000463839768658811</li>\n",
       "\t<li>0.00041745579179293</li>\n",
       "\t<li>0.000375710212613637</li>\n",
       "\t<li>0.000338139191352273</li>\n",
       "\t<li>0.000304325272217046</li>\n",
       "\t<li>0.000273892744995341</li>\n",
       "\t<li>0.000246503470495807</li>\n",
       "\t<li>0.000221853123446226</li>\n",
       "\t<li>0.000199667811101604</li>\n",
       "\t<li>0.000179701029991443</li>\n",
       "</ol>\n"
      ],
      "text/latex": [
       "\\begin{enumerate*}\n",
       "\\item 0.1\n",
       "\\item 0.09\n",
       "\\item 0.081\n",
       "\\item 0.0729\n",
       "\\item 0.06561\n",
       "\\item 0.059049\n",
       "\\item 0.0531441\n",
       "\\item 0.04782969\n",
       "\\item 0.043046721\n",
       "\\item 0.0387420489\n",
       "\\item 0.03486784401\n",
       "\\item 0.031381059609\n",
       "\\item 0.0282429536481\n",
       "\\item 0.02541865828329\n",
       "\\item 0.022876792454961\n",
       "\\item 0.0205891132094649\n",
       "\\item 0.0185302018885184\n",
       "\\item 0.0166771816996666\n",
       "\\item 0.0150094635296999\n",
       "\\item 0.0135085171767299\n",
       "\\item 0.0121576654590569\n",
       "\\item 0.0109418989131512\n",
       "\\item 0.00984770902183612\n",
       "\\item 0.00886293811965251\n",
       "\\item 0.00797664430768726\n",
       "\\item 0.00717897987691853\n",
       "\\item 0.00646108188922668\n",
       "\\item 0.00581497370030401\n",
       "\\item 0.00523347633027361\n",
       "\\item 0.00471012869724625\n",
       "\\item 0.00423911582752162\n",
       "\\item 0.00381520424476946\n",
       "\\item 0.00343368382029252\n",
       "\\item 0.00309031543826326\n",
       "\\item 0.00278128389443694\n",
       "\\item 0.00250315550499324\n",
       "\\item 0.00225283995449392\n",
       "\\item 0.00202755595904453\n",
       "\\item 0.00182480036314007\n",
       "\\item 0.00164232032682607\n",
       "\\item 0.00147808829414346\n",
       "\\item 0.00133027946472911\n",
       "\\item 0.0011972515182562\n",
       "\\item 0.00107752636643058\n",
       "\\item 0.000969773729787525\n",
       "\\item 0.000872796356808772\n",
       "\\item 0.000785516721127895\n",
       "\\item 0.000706965049015106\n",
       "\\item 0.000636268544113595\n",
       "\\item 0.000572641689702235\n",
       "\\item 0.000515377520732012\n",
       "\\item 0.000463839768658811\n",
       "\\item 0.00041745579179293\n",
       "\\item 0.000375710212613637\n",
       "\\item 0.000338139191352273\n",
       "\\item 0.000304325272217046\n",
       "\\item 0.000273892744995341\n",
       "\\item 0.000246503470495807\n",
       "\\item 0.000221853123446226\n",
       "\\item 0.000199667811101604\n",
       "\\item 0.000179701029991443\n",
       "\\end{enumerate*}\n"
      ],
      "text/markdown": [
       "1. 0.1\n",
       "2. 0.09\n",
       "3. 0.081\n",
       "4. 0.0729\n",
       "5. 0.06561\n",
       "6. 0.059049\n",
       "7. 0.0531441\n",
       "8. 0.04782969\n",
       "9. 0.043046721\n",
       "10. 0.0387420489\n",
       "11. 0.03486784401\n",
       "12. 0.031381059609\n",
       "13. 0.0282429536481\n",
       "14. 0.02541865828329\n",
       "15. 0.022876792454961\n",
       "16. 0.0205891132094649\n",
       "17. 0.0185302018885184\n",
       "18. 0.0166771816996666\n",
       "19. 0.0150094635296999\n",
       "20. 0.0135085171767299\n",
       "21. 0.0121576654590569\n",
       "22. 0.0109418989131512\n",
       "23. 0.00984770902183612\n",
       "24. 0.00886293811965251\n",
       "25. 0.00797664430768726\n",
       "26. 0.00717897987691853\n",
       "27. 0.00646108188922668\n",
       "28. 0.00581497370030401\n",
       "29. 0.00523347633027361\n",
       "30. 0.00471012869724625\n",
       "31. 0.00423911582752162\n",
       "32. 0.00381520424476946\n",
       "33. 0.00343368382029252\n",
       "34. 0.00309031543826326\n",
       "35. 0.00278128389443694\n",
       "36. 0.00250315550499324\n",
       "37. 0.00225283995449392\n",
       "38. 0.00202755595904453\n",
       "39. 0.00182480036314007\n",
       "40. 0.00164232032682607\n",
       "41. 0.00147808829414346\n",
       "42. 0.00133027946472911\n",
       "43. 0.0011972515182562\n",
       "44. 0.00107752636643058\n",
       "45. 0.000969773729787525\n",
       "46. 0.000872796356808772\n",
       "47. 0.000785516721127895\n",
       "48. 0.000706965049015106\n",
       "49. 0.000636268544113595\n",
       "50. 0.000572641689702235\n",
       "51. 0.000515377520732012\n",
       "52. 0.000463839768658811\n",
       "53. 0.00041745579179293\n",
       "54. 0.000375710212613637\n",
       "55. 0.000338139191352273\n",
       "56. 0.000304325272217046\n",
       "57. 0.000273892744995341\n",
       "58. 0.000246503470495807\n",
       "59. 0.000221853123446226\n",
       "60. 0.000199667811101604\n",
       "61. 0.000179701029991443\n",
       "\n",
       "\n"
      ],
      "text/plain": [
       " [1] 0.1000000000 0.0900000000 0.0810000000 0.0729000000 0.0656100000\n",
       " [6] 0.0590490000 0.0531441000 0.0478296900 0.0430467210 0.0387420489\n",
       "[11] 0.0348678440 0.0313810596 0.0282429536 0.0254186583 0.0228767925\n",
       "[16] 0.0205891132 0.0185302019 0.0166771817 0.0150094635 0.0135085172\n",
       "[21] 0.0121576655 0.0109418989 0.0098477090 0.0088629381 0.0079766443\n",
       "[26] 0.0071789799 0.0064610819 0.0058149737 0.0052334763 0.0047101287\n",
       "[31] 0.0042391158 0.0038152042 0.0034336838 0.0030903154 0.0027812839\n",
       "[36] 0.0025031555 0.0022528400 0.0020275560 0.0018248004 0.0016423203\n",
       "[41] 0.0014780883 0.0013302795 0.0011972515 0.0010775264 0.0009697737\n",
       "[46] 0.0008727964 0.0007855167 0.0007069650 0.0006362685 0.0005726417\n",
       "[51] 0.0005153775 0.0004638398 0.0004174558 0.0003757102 0.0003381392\n",
       "[56] 0.0003043253 0.0002738927 0.0002465035 0.0002218531 0.0001996678\n",
       "[61] 0.0001797010"
      ]
     },
     "metadata": {},
     "output_type": "display_data"
    }
   ],
   "source": [
    "seconds <- c(0:60)\n",
    "\n",
    "probs.time <- (1 - p) ^ seconds * p\n",
    "probs.time"
   ]
  },
  {
   "cell_type": "markdown",
   "metadata": {},
   "source": [
    "Use the `dgeom` function directly."
   ]
  },
  {
   "cell_type": "code",
   "execution_count": 9,
   "metadata": {},
   "outputs": [
    {
     "data": {
      "text/html": [
       "<ol class=list-inline>\n",
       "\t<li>0.1</li>\n",
       "\t<li>0.09</li>\n",
       "\t<li>0.081</li>\n",
       "\t<li>0.0729</li>\n",
       "\t<li>0.06561</li>\n",
       "\t<li>0.059049</li>\n",
       "</ol>\n"
      ],
      "text/latex": [
       "\\begin{enumerate*}\n",
       "\\item 0.1\n",
       "\\item 0.09\n",
       "\\item 0.081\n",
       "\\item 0.0729\n",
       "\\item 0.06561\n",
       "\\item 0.059049\n",
       "\\end{enumerate*}\n"
      ],
      "text/markdown": [
       "1. 0.1\n",
       "2. 0.09\n",
       "3. 0.081\n",
       "4. 0.0729\n",
       "5. 0.06561\n",
       "6. 0.059049\n",
       "\n",
       "\n"
      ],
      "text/plain": [
       "[1] 0.100000 0.090000 0.081000 0.072900 0.065610 0.059049"
      ]
     },
     "metadata": {},
     "output_type": "display_data"
    }
   ],
   "source": [
    "dgeom(x=c(0:5), prob=p)"
   ]
  },
  {
   "cell_type": "markdown",
   "metadata": {},
   "source": [
    "The `pgeom` function can calculate the *cumulative* probability."
   ]
  },
  {
   "cell_type": "code",
   "execution_count": 10,
   "metadata": {},
   "outputs": [
    {
     "data": {
      "text/html": [
       "0.468559"
      ],
      "text/latex": [
       "0.468559"
      ],
      "text/markdown": [
       "0.468559"
      ],
      "text/plain": [
       "[1] 0.468559"
      ]
     },
     "metadata": {},
     "output_type": "display_data"
    }
   ],
   "source": [
    "pgeom(q=5, prob=p)"
   ]
  },
  {
   "cell_type": "code",
   "execution_count": 11,
   "metadata": {},
   "outputs": [
    {
     "data": {
      "text/html": [
       "0.468559"
      ],
      "text/latex": [
       "0.468559"
      ],
      "text/markdown": [
       "0.468559"
      ],
      "text/plain": [
       "[1] 0.468559"
      ]
     },
     "metadata": {},
     "output_type": "display_data"
    }
   ],
   "source": [
    "sum(dgeom(x=c(0:5), prob=p))"
   ]
  },
  {
   "cell_type": "code",
   "execution_count": 12,
   "metadata": {},
   "outputs": [
    {
     "data": {
      "image/png": "[encoded data removed]",
      "text/plain": [
       "plot without title"
      ]
     },
     "metadata": {},
     "output_type": "display_data"
    }
   ],
   "source": [
    "barplot(probs.time, xlab=\"Waiting times\", ylab=\"Probability\")"
   ]
  },
  {
   "cell_type": "markdown",
   "metadata": {},
   "source": [
    "## Question F\n",
    "\n",
    "> What's the *mean* waiting time for the *1st* call?"
   ]
  },
  {
   "cell_type": "markdown",
   "metadata": {},
   "source": [
    "\\begin{equation}\n",
    "E\\; (Times) = \\frac{1}{p} = 10\n",
    "\\end{equation}"
   ]
  },
  {
   "cell_type": "code",
   "execution_count": 13,
   "metadata": {},
   "outputs": [
    {
     "data": {
      "text/html": [
       "8.88678835110539"
      ],
      "text/latex": [
       "8.88678835110539"
      ],
      "text/markdown": [
       "8.88678835110539"
      ],
      "text/plain": [
       "[1] 8.886788"
      ]
     },
     "metadata": {},
     "output_type": "display_data"
    }
   ],
   "source": [
    "mean <- sum(seconds * probs.time)\n",
    "mean"
   ]
  }
 ],
 "metadata": {
  "kernelspec": {
   "display_name": "R",
   "language": "R",
   "name": "ir"
  },
  "language_info": {
   "codemirror_mode": "r",
   "file_extension": ".r",
   "mimetype": "text/x-r-source",
   "name": "R",
   "pygments_lexer": "r",
   "version": "3.6.1"
  }
 },
 "nbformat": 4,
 "nbformat_minor": 4
}