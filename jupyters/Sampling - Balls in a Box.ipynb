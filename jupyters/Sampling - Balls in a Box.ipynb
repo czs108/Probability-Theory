{
 "cells": [
  {
   "cell_type": "markdown",
   "metadata": {},
   "source": [
    "# Sampling - Balls in a Box\n",
    "\n",
    "> ***GitHub***: https://github.com/czs108"
   ]
  },
  {
   "cell_type": "markdown",
   "metadata": {},
   "source": [
    "## Background\n",
    "\n",
    "> Consider a box containing **15** *red* balls, **10** *green* balls and **5** *blue* balls. Let **5** balls be drawn at random *without* replacement from the box.\n",
    ">\n",
    "> Please give the probabilities of the following events."
   ]
  },
  {
   "cell_type": "markdown",
   "metadata": {},
   "source": [
    "\\begin{equation}\n",
    "P(A \\cup B) = P(A) + P(B) - P(A \\cap B)\n",
    "\\end{equation}\n",
    "\n",
    "\\begin{equation}\n",
    "\\begin{split}\n",
    "P(A \\cap B) &= P(A) \\cdot P(B \\mid A) \\\\\n",
    "    &= P(B) \\cdot P(A \\mid B)\n",
    "\\end{split}\n",
    "\\end{equation}"
   ]
  },
  {
   "cell_type": "markdown",
   "metadata": {},
   "source": [
    "## Question A"
   ]
  },
  {
   "cell_type": "markdown",
   "metadata": {},
   "source": [
    "### Question 1\n",
    "\n",
    "> The *1st* ball is *red*."
   ]
  },
  {
   "cell_type": "markdown",
   "metadata": {},
   "source": [
    "\\begin{equation}\n",
    "P = \\frac{15}{30}\n",
    "\\end{equation}"
   ]
  },
  {
   "cell_type": "markdown",
   "metadata": {},
   "source": [
    "### Question 2\n",
    "\n",
    "> The *1st* ball and *2nd* ball are *red*."
   ]
  },
  {
   "cell_type": "markdown",
   "metadata": {},
   "source": [
    "\\begin{equation}\n",
    "P = \\frac{15}{30} \\times \\frac{14}{29}\n",
    "\\end{equation}"
   ]
  },
  {
   "cell_type": "markdown",
   "metadata": {},
   "source": [
    "### Question 3\n",
    "\n",
    "> The *2nd* ball is *red*."
   ]
  },
  {
   "cell_type": "markdown",
   "metadata": {},
   "source": [
    "There are **2** situations:\n",
    "\n",
    "\\begin{equation}\n",
    "P(1st = red\\, \\cap\\, 2nd = red) = \\frac{15}{30} \\times \\frac{14}{29}\n",
    "\\end{equation}\n",
    "\n",
    "\\begin{equation}\n",
    "P(1st \\neq red\\, \\cap\\, 2nd = red) = \\frac{15}{30} \\times \\frac{15}{29}\n",
    "\\end{equation}\n",
    "\n",
    "The total probability:\n",
    "\n",
    "\\begin{equation}\n",
    "\\begin{split}\n",
    "P &= P(1st = red\\, \\cap\\, 2nd = red) + P(1st \\neq red\\, \\cap\\, 2nd = red) \\\\\n",
    "    &= \\frac{1}{2}\n",
    "\\end{split}\n",
    "\\end{equation}"
   ]
  },
  {
   "cell_type": "markdown",
   "metadata": {},
   "source": [
    "### Question 4\n",
    "\n",
    "> The *2nd* ball is *red* given that the *1st* ball is *red*."
   ]
  },
  {
   "cell_type": "markdown",
   "metadata": {},
   "source": [
    "\\begin{equation}\n",
    "\\begin{split}\n",
    "P &= \\frac{P(1st = red\\, \\cap\\, 2nd = red)}{P(1st = red)} \\\\\n",
    "    &= \\frac{\\frac{15}{30} \\times \\frac{14}{29}}{\\frac{15}{30}} \\\\\n",
    "    &= \\frac{14}{29}\n",
    "\\end{split}\n",
    "\\end{equation}"
   ]
  },
  {
   "cell_type": "markdown",
   "metadata": {},
   "source": [
    "### Question 5\n",
    "\n",
    "> The *1st* ball is *red* given that the *2nd* ball is *red*."
   ]
  },
  {
   "cell_type": "markdown",
   "metadata": {},
   "source": [
    "\\begin{equation}\n",
    "\\begin{split}\n",
    "P &= \\frac{P(1st = red\\, \\cap\\, 2nd = red)}{P(2nd = red)} \\\\\n",
    "    &= \\frac{\\frac{15}{30} \\times \\frac{14}{29}}{\\frac{1}{2}} \\\\\n",
    "    &= \\frac{14}{29}\n",
    "\\end{split}\n",
    "\\end{equation}"
   ]
  },
  {
   "cell_type": "markdown",
   "metadata": {},
   "source": [
    "### Question 6\n",
    "\n",
    "> Either the *1st* ball or *2nd* ball or both are *red*."
   ]
  },
  {
   "cell_type": "markdown",
   "metadata": {},
   "source": [
    "\\begin{equation}\n",
    "\\begin{split}\n",
    "P &= P(1st = red) + P(2nd = red) - P(1st = red\\, \\cap\\, 2nd = red) \\\\\n",
    "    &= \\frac{1}{2} + \\frac{1}{2} - \\frac{15}{30} \\times \\frac{14}{29}\n",
    "\\end{split}\n",
    "\\end{equation}"
   ]
  },
  {
   "cell_type": "markdown",
   "metadata": {},
   "source": [
    "## Question B\n",
    "\n",
    "> **5** balls are all the *same* color."
   ]
  },
  {
   "cell_type": "markdown",
   "metadata": {},
   "source": [
    "\\begin{equation}\n",
    "P = \\frac{^{15}C_{5} +\\, ^{10}C_{5} +\\, ^{5}C_{5}}{^{30}C_{5}}\n",
    "\\end{equation}"
   ]
  },
  {
   "cell_type": "markdown",
   "metadata": {},
   "source": [
    "## Question C\n",
    "\n",
    "> Exactly **2** balls are *red*."
   ]
  },
  {
   "cell_type": "markdown",
   "metadata": {},
   "source": [
    "\\begin{equation}\n",
    "P = \\frac{^{15}C_{2} \\times\\, ^{15}C_{3}}{^{30}C_{5}}\n",
    "\\end{equation}"
   ]
  },
  {
   "cell_type": "markdown",
   "metadata": {},
   "source": [
    "## Question D\n",
    "\n",
    "> The sequence is *red*, *green*, *blue*, *red*, *green*."
   ]
  },
  {
   "cell_type": "markdown",
   "metadata": {},
   "source": [
    "\\begin{equation}\n",
    "P = \\frac{15 \\times 10 \\times 5 \\times 14 \\times 9}{^{30}P_{5}}\n",
    "\\end{equation}"
   ]
  },
  {
   "cell_type": "markdown",
   "metadata": {},
   "source": [
    "## Question E\n",
    "\n",
    "> Getting **2** *red* balls, **2** *green* balls and **1** *blue* ball in any order."
   ]
  },
  {
   "cell_type": "markdown",
   "metadata": {},
   "source": [
    "\\begin{equation}\n",
    "P = \\frac{^{15}C_{2} \\times\\, ^{10}C_{2} \\times\\, ^{5}C_{1}}{^{30}C_{5}}\n",
    "\\end{equation}"
   ]
  }
 ],
 "metadata": {
  "kernelspec": {
   "display_name": "R",
   "language": "R",
   "name": "ir"
  },
  "language_info": {
   "codemirror_mode": "r",
   "file_extension": ".r",
   "mimetype": "text/x-r-source",
   "name": "R",
   "pygments_lexer": "r",
   "version": "3.6.1"
  }
 },
 "nbformat": 4,
 "nbformat_minor": 4
}