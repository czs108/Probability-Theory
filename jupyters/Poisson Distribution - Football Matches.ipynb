{
 "cells": [
  {
   "cell_type": "markdown",
   "metadata": {},
   "source": [
    "# Poisson Distribution - Football Matches\n",
    "\n",
    "> This document is written in *R*.\n",
    ">\n",
    "> ***GitHub***: https://github.com/czs108"
   ]
  },
  {
   "cell_type": "markdown",
   "metadata": {},
   "source": [
    "## Background\n",
    "\n",
    "> There are **2** football teams. Team *A* scores a *mean* of **2** goals per match. Team *B* scores a *mean* of **3** goals per match."
   ]
  },
  {
   "cell_type": "markdown",
   "metadata": {},
   "source": [
    "## Question A\n",
    "\n",
    "> Generate a large number of matches between **2** teams. Each match will have **2** scores - one for team *A* and one for team *B*.\n",
    ">\n",
    "> You can use the `rpois` function to generate random scores for each team."
   ]
  },
  {
   "cell_type": "code",
   "execution_count": 1,
   "metadata": {},
   "outputs": [],
   "source": [
    "total <- 10000\n",
    "A <- rpois(n=total, lambda=2)\n",
    "B <- rpois(n=total, lambda=3)"
   ]
  },
  {
   "cell_type": "markdown",
   "metadata": {},
   "source": [
    "## Question B\n",
    "\n",
    "> How many different score lines are there?\n",
    ">\n",
    "> How frequent is each score line? "
   ]
  },
  {
   "cell_type": "code",
   "execution_count": 2,
   "metadata": {},
   "outputs": [
    {
     "data": {
      "text/plain": [
       "   B\n",
       "A     0   1   2   3   4   5   6   7   8   9  10  11  12  13\n",
       "  0  65 212 304 307 204 146  78  25  12   4   2   2   0   0\n",
       "  1 145 403 595 577 457 274 143  59  24  11   2   0   1   1\n",
       "  2 132 385 594 611 459 288 155  55  20   8   3   0   0   0\n",
       "  3  83 283 388 419 311 160  99  44  15   8   1   1   0   0\n",
       "  4  35 127 216 194 149  88  49  17   9   4   3   0   0   0\n",
       "  5  23  60  81  64  70  37  12   6   5   0   0   0   0   0\n",
       "  6  11  23  24  31  22  10   3   3   1   1   0   0   0   0\n",
       "  7   0   2  14   9   4   4   3   2   0   0   0   0   0   0\n",
       "  8   1   0   2   1   0   2   1   0   0   0   0   0   0   0\n",
       "  9   1   0   0   0   0   1   0   0   0   0   0   0   0   0"
      ]
     },
     "metadata": {},
     "output_type": "display_data"
    }
   ],
   "source": [
    "table(A, B)"
   ]
  },
  {
   "cell_type": "code",
   "execution_count": 3,
   "metadata": {},
   "outputs": [
    {
     "data": {
      "text/html": [
       "<table>\n",
       "<thead><tr><th></th><th scope=col>0</th><th scope=col>1</th><th scope=col>2</th><th scope=col>3</th><th scope=col>4</th><th scope=col>5</th><th scope=col>6</th><th scope=col>7</th><th scope=col>8</th><th scope=col>9</th><th scope=col>10</th><th scope=col>11</th><th scope=col>12</th><th scope=col>13</th></tr></thead>\n",
       "<tbody>\n",
       "\t<tr><th scope=row>0</th><td> TRUE</td><td> TRUE</td><td> TRUE</td><td> TRUE</td><td> TRUE</td><td>TRUE </td><td> TRUE</td><td> TRUE</td><td> TRUE</td><td> TRUE</td><td> TRUE</td><td> TRUE</td><td>FALSE</td><td>FALSE</td></tr>\n",
       "\t<tr><th scope=row>1</th><td> TRUE</td><td> TRUE</td><td> TRUE</td><td> TRUE</td><td> TRUE</td><td>TRUE </td><td> TRUE</td><td> TRUE</td><td> TRUE</td><td> TRUE</td><td> TRUE</td><td>FALSE</td><td> TRUE</td><td> TRUE</td></tr>\n",
       "\t<tr><th scope=row>2</th><td> TRUE</td><td> TRUE</td><td> TRUE</td><td> TRUE</td><td> TRUE</td><td>TRUE </td><td> TRUE</td><td> TRUE</td><td> TRUE</td><td> TRUE</td><td> TRUE</td><td>FALSE</td><td>FALSE</td><td>FALSE</td></tr>\n",
       "\t<tr><th scope=row>3</th><td> TRUE</td><td> TRUE</td><td> TRUE</td><td> TRUE</td><td> TRUE</td><td>TRUE </td><td> TRUE</td><td> TRUE</td><td> TRUE</td><td> TRUE</td><td> TRUE</td><td> TRUE</td><td>FALSE</td><td>FALSE</td></tr>\n",
       "\t<tr><th scope=row>4</th><td> TRUE</td><td> TRUE</td><td> TRUE</td><td> TRUE</td><td> TRUE</td><td>TRUE </td><td> TRUE</td><td> TRUE</td><td> TRUE</td><td> TRUE</td><td> TRUE</td><td>FALSE</td><td>FALSE</td><td>FALSE</td></tr>\n",
       "\t<tr><th scope=row>5</th><td> TRUE</td><td> TRUE</td><td> TRUE</td><td> TRUE</td><td> TRUE</td><td>TRUE </td><td> TRUE</td><td> TRUE</td><td> TRUE</td><td>FALSE</td><td>FALSE</td><td>FALSE</td><td>FALSE</td><td>FALSE</td></tr>\n",
       "\t<tr><th scope=row>6</th><td> TRUE</td><td> TRUE</td><td> TRUE</td><td> TRUE</td><td> TRUE</td><td>TRUE </td><td> TRUE</td><td> TRUE</td><td> TRUE</td><td> TRUE</td><td>FALSE</td><td>FALSE</td><td>FALSE</td><td>FALSE</td></tr>\n",
       "\t<tr><th scope=row>7</th><td>FALSE</td><td> TRUE</td><td> TRUE</td><td> TRUE</td><td> TRUE</td><td>TRUE </td><td> TRUE</td><td> TRUE</td><td>FALSE</td><td>FALSE</td><td>FALSE</td><td>FALSE</td><td>FALSE</td><td>FALSE</td></tr>\n",
       "\t<tr><th scope=row>8</th><td> TRUE</td><td>FALSE</td><td> TRUE</td><td> TRUE</td><td>FALSE</td><td>TRUE </td><td> TRUE</td><td>FALSE</td><td>FALSE</td><td>FALSE</td><td>FALSE</td><td>FALSE</td><td>FALSE</td><td>FALSE</td></tr>\n",
       "\t<tr><th scope=row>9</th><td> TRUE</td><td>FALSE</td><td>FALSE</td><td>FALSE</td><td>FALSE</td><td>TRUE </td><td>FALSE</td><td>FALSE</td><td>FALSE</td><td>FALSE</td><td>FALSE</td><td>FALSE</td><td>FALSE</td><td>FALSE</td></tr>\n",
       "</tbody>\n",
       "</table>\n"
      ],
      "text/latex": [
       "\\begin{tabular}{r|llllllllllllll}\n",
       "  & 0 & 1 & 2 & 3 & 4 & 5 & 6 & 7 & 8 & 9 & 10 & 11 & 12 & 13\\\\\n",
       "\\hline\n",
       "\t0 &  TRUE &  TRUE &  TRUE &  TRUE &  TRUE & TRUE  &  TRUE &  TRUE &  TRUE &  TRUE &  TRUE &  TRUE & FALSE & FALSE\\\\\n",
       "\t1 &  TRUE &  TRUE &  TRUE &  TRUE &  TRUE & TRUE  &  TRUE &  TRUE &  TRUE &  TRUE &  TRUE & FALSE &  TRUE &  TRUE\\\\\n",
       "\t2 &  TRUE &  TRUE &  TRUE &  TRUE &  TRUE & TRUE  &  TRUE &  TRUE &  TRUE &  TRUE &  TRUE & FALSE & FALSE & FALSE\\\\\n",
       "\t3 &  TRUE &  TRUE &  TRUE &  TRUE &  TRUE & TRUE  &  TRUE &  TRUE &  TRUE &  TRUE &  TRUE &  TRUE & FALSE & FALSE\\\\\n",
       "\t4 &  TRUE &  TRUE &  TRUE &  TRUE &  TRUE & TRUE  &  TRUE &  TRUE &  TRUE &  TRUE &  TRUE & FALSE & FALSE & FALSE\\\\\n",
       "\t5 &  TRUE &  TRUE &  TRUE &  TRUE &  TRUE & TRUE  &  TRUE &  TRUE &  TRUE & FALSE & FALSE & FALSE & FALSE & FALSE\\\\\n",
       "\t6 &  TRUE &  TRUE &  TRUE &  TRUE &  TRUE & TRUE  &  TRUE &  TRUE &  TRUE &  TRUE & FALSE & FALSE & FALSE & FALSE\\\\\n",
       "\t7 & FALSE &  TRUE &  TRUE &  TRUE &  TRUE & TRUE  &  TRUE &  TRUE & FALSE & FALSE & FALSE & FALSE & FALSE & FALSE\\\\\n",
       "\t8 &  TRUE & FALSE &  TRUE &  TRUE & FALSE & TRUE  &  TRUE & FALSE & FALSE & FALSE & FALSE & FALSE & FALSE & FALSE\\\\\n",
       "\t9 &  TRUE & FALSE & FALSE & FALSE & FALSE & TRUE  & FALSE & FALSE & FALSE & FALSE & FALSE & FALSE & FALSE & FALSE\\\\\n",
       "\\end{tabular}\n"
      ],
      "text/markdown": [
       "\n",
       "| <!--/--> | 0 | 1 | 2 | 3 | 4 | 5 | 6 | 7 | 8 | 9 | 10 | 11 | 12 | 13 |\n",
       "|---|---|---|---|---|---|---|---|---|---|---|---|---|---|---|\n",
       "| 0 |  TRUE |  TRUE |  TRUE |  TRUE |  TRUE | TRUE  |  TRUE |  TRUE |  TRUE |  TRUE |  TRUE |  TRUE | FALSE | FALSE |\n",
       "| 1 |  TRUE |  TRUE |  TRUE |  TRUE |  TRUE | TRUE  |  TRUE |  TRUE |  TRUE |  TRUE |  TRUE | FALSE |  TRUE |  TRUE |\n",
       "| 2 |  TRUE |  TRUE |  TRUE |  TRUE |  TRUE | TRUE  |  TRUE |  TRUE |  TRUE |  TRUE |  TRUE | FALSE | FALSE | FALSE |\n",
       "| 3 |  TRUE |  TRUE |  TRUE |  TRUE |  TRUE | TRUE  |  TRUE |  TRUE |  TRUE |  TRUE |  TRUE |  TRUE | FALSE | FALSE |\n",
       "| 4 |  TRUE |  TRUE |  TRUE |  TRUE |  TRUE | TRUE  |  TRUE |  TRUE |  TRUE |  TRUE |  TRUE | FALSE | FALSE | FALSE |\n",
       "| 5 |  TRUE |  TRUE |  TRUE |  TRUE |  TRUE | TRUE  |  TRUE |  TRUE |  TRUE | FALSE | FALSE | FALSE | FALSE | FALSE |\n",
       "| 6 |  TRUE |  TRUE |  TRUE |  TRUE |  TRUE | TRUE  |  TRUE |  TRUE |  TRUE |  TRUE | FALSE | FALSE | FALSE | FALSE |\n",
       "| 7 | FALSE |  TRUE |  TRUE |  TRUE |  TRUE | TRUE  |  TRUE |  TRUE | FALSE | FALSE | FALSE | FALSE | FALSE | FALSE |\n",
       "| 8 |  TRUE | FALSE |  TRUE |  TRUE | FALSE | TRUE  |  TRUE | FALSE | FALSE | FALSE | FALSE | FALSE | FALSE | FALSE |\n",
       "| 9 |  TRUE | FALSE | FALSE | FALSE | FALSE | TRUE  | FALSE | FALSE | FALSE | FALSE | FALSE | FALSE | FALSE | FALSE |\n",
       "\n"
      ],
      "text/plain": [
       "   B\n",
       "A   0     1     2     3     4     5    6     7     8     9     10    11   \n",
       "  0  TRUE  TRUE  TRUE  TRUE  TRUE TRUE  TRUE  TRUE  TRUE  TRUE  TRUE  TRUE\n",
       "  1  TRUE  TRUE  TRUE  TRUE  TRUE TRUE  TRUE  TRUE  TRUE  TRUE  TRUE FALSE\n",
       "  2  TRUE  TRUE  TRUE  TRUE  TRUE TRUE  TRUE  TRUE  TRUE  TRUE  TRUE FALSE\n",
       "  3  TRUE  TRUE  TRUE  TRUE  TRUE TRUE  TRUE  TRUE  TRUE  TRUE  TRUE  TRUE\n",
       "  4  TRUE  TRUE  TRUE  TRUE  TRUE TRUE  TRUE  TRUE  TRUE  TRUE  TRUE FALSE\n",
       "  5  TRUE  TRUE  TRUE  TRUE  TRUE TRUE  TRUE  TRUE  TRUE FALSE FALSE FALSE\n",
       "  6  TRUE  TRUE  TRUE  TRUE  TRUE TRUE  TRUE  TRUE  TRUE  TRUE FALSE FALSE\n",
       "  7 FALSE  TRUE  TRUE  TRUE  TRUE TRUE  TRUE  TRUE FALSE FALSE FALSE FALSE\n",
       "  8  TRUE FALSE  TRUE  TRUE FALSE TRUE  TRUE FALSE FALSE FALSE FALSE FALSE\n",
       "  9  TRUE FALSE FALSE FALSE FALSE TRUE FALSE FALSE FALSE FALSE FALSE FALSE\n",
       "   B\n",
       "A   12    13   \n",
       "  0 FALSE FALSE\n",
       "  1  TRUE  TRUE\n",
       "  2 FALSE FALSE\n",
       "  3 FALSE FALSE\n",
       "  4 FALSE FALSE\n",
       "  5 FALSE FALSE\n",
       "  6 FALSE FALSE\n",
       "  7 FALSE FALSE\n",
       "  8 FALSE FALSE\n",
       "  9 FALSE FALSE"
      ]
     },
     "metadata": {},
     "output_type": "display_data"
    }
   ],
   "source": [
    "table(A, B) > 0"
   ]
  },
  {
   "cell_type": "markdown",
   "metadata": {},
   "source": [
    "Finally, use the `sum` function to count the number of score lines."
   ]
  },
  {
   "cell_type": "code",
   "execution_count": 4,
   "metadata": {},
   "outputs": [
    {
     "data": {
      "text/html": [
       "92"
      ],
      "text/latex": [
       "92"
      ],
      "text/markdown": [
       "92"
      ],
      "text/plain": [
       "[1] 92"
      ]
     },
     "metadata": {},
     "output_type": "display_data"
    }
   ],
   "source": [
    "sum(table(A, B) > 0)"
   ]
  },
  {
   "cell_type": "markdown",
   "metadata": {},
   "source": [
    "Use the `prop.table` function to calculate the frequency."
   ]
  },
  {
   "cell_type": "code",
   "execution_count": 5,
   "metadata": {},
   "outputs": [
    {
     "data": {
      "text/plain": [
       "   B\n",
       "A        0      1      2      3      4      5      6      7      8      9\n",
       "  0 0.0065 0.0212 0.0304 0.0307 0.0204 0.0146 0.0078 0.0025 0.0012 0.0004\n",
       "  1 0.0145 0.0403 0.0595 0.0577 0.0457 0.0274 0.0143 0.0059 0.0024 0.0011\n",
       "  2 0.0132 0.0385 0.0594 0.0611 0.0459 0.0288 0.0155 0.0055 0.0020 0.0008\n",
       "  3 0.0083 0.0283 0.0388 0.0419 0.0311 0.0160 0.0099 0.0044 0.0015 0.0008\n",
       "  4 0.0035 0.0127 0.0216 0.0194 0.0149 0.0088 0.0049 0.0017 0.0009 0.0004\n",
       "  5 0.0023 0.0060 0.0081 0.0064 0.0070 0.0037 0.0012 0.0006 0.0005 0.0000\n",
       "  6 0.0011 0.0023 0.0024 0.0031 0.0022 0.0010 0.0003 0.0003 0.0001 0.0001\n",
       "  7 0.0000 0.0002 0.0014 0.0009 0.0004 0.0004 0.0003 0.0002 0.0000 0.0000\n",
       "  8 0.0001 0.0000 0.0002 0.0001 0.0000 0.0002 0.0001 0.0000 0.0000 0.0000\n",
       "  9 0.0001 0.0000 0.0000 0.0000 0.0000 0.0001 0.0000 0.0000 0.0000 0.0000\n",
       "   B\n",
       "A       10     11     12     13\n",
       "  0 0.0002 0.0002 0.0000 0.0000\n",
       "  1 0.0002 0.0000 0.0001 0.0001\n",
       "  2 0.0003 0.0000 0.0000 0.0000\n",
       "  3 0.0001 0.0001 0.0000 0.0000\n",
       "  4 0.0003 0.0000 0.0000 0.0000\n",
       "  5 0.0000 0.0000 0.0000 0.0000\n",
       "  6 0.0000 0.0000 0.0000 0.0000\n",
       "  7 0.0000 0.0000 0.0000 0.0000\n",
       "  8 0.0000 0.0000 0.0000 0.0000\n",
       "  9 0.0000 0.0000 0.0000 0.0000"
      ]
     },
     "metadata": {},
     "output_type": "display_data"
    }
   ],
   "source": [
    "prop.table(table(A, B))"
   ]
  },
  {
   "cell_type": "markdown",
   "metadata": {},
   "source": [
    "## Question C\n",
    "\n",
    "> How often does team *A* *beat* team *B*?"
   ]
  },
  {
   "cell_type": "code",
   "execution_count": 6,
   "metadata": {},
   "outputs": [
    {
     "data": {
      "text/html": [
       "0.2452"
      ],
      "text/latex": [
       "0.2452"
      ],
      "text/markdown": [
       "0.2452"
      ],
      "text/plain": [
       "[1] 0.2452"
      ]
     },
     "metadata": {},
     "output_type": "display_data"
    }
   ],
   "source": [
    "sum(A > B) / total"
   ]
  },
  {
   "cell_type": "markdown",
   "metadata": {},
   "source": [
    "## Question D\n",
    "\n",
    "> Compute the distribution for the number of matches between *victories* for team *A*.\n",
    ">\n",
    "> Plot the frequency for each value of this number."
   ]
  },
  {
   "cell_type": "markdown",
   "metadata": {},
   "source": [
    "Use the `which` function."
   ]
  },
  {
   "cell_type": "code",
   "execution_count": 7,
   "metadata": {},
   "outputs": [
    {
     "data": {
      "text/html": [
       "2452"
      ],
      "text/latex": [
       "2452"
      ],
      "text/markdown": [
       "2452"
      ],
      "text/plain": [
       "[1] 2452"
      ]
     },
     "metadata": {},
     "output_type": "display_data"
    }
   ],
   "source": [
    "victories <- which(A > B)\n",
    "\n",
    "sum <- length(victories)\n",
    "sum"
   ]
  },
  {
   "cell_type": "code",
   "execution_count": 8,
   "metadata": {},
   "outputs": [
    {
     "data": {
      "text/plain": [
       "interval\n",
       "           1            2            3            4            5            6 \n",
       "0.2501019992 0.1831905345 0.1370869033 0.1019991840 0.0767033864 0.0673194614 \n",
       "           7            8            9           10           11           12 \n",
       "0.0399836801 0.0334557324 0.0252957976 0.0240718074 0.0163198694 0.0130558956 \n",
       "          13           14           15           16           17           18 \n",
       "0.0081599347 0.0048959608 0.0032639739 0.0044879641 0.0012239902 0.0032639739 \n",
       "          19           20           21           23           26 \n",
       "0.0012239902 0.0016319869 0.0016319869 0.0012239902 0.0004079967 "
      ]
     },
     "metadata": {},
     "output_type": "display_data"
    }
   ],
   "source": [
    "interval <- victories[c(2:sum)] - victories[c(1:(sum - 1))]\n",
    "\n",
    "probs <- prop.table(table(interval))\n",
    "probs"
   ]
  },
  {
   "cell_type": "code",
   "execution_count": 9,
   "metadata": {},
   "outputs": [
    {
     "data": {
      "image/png": "[encoded data removed]",
      "text/plain": [
       "plot without title"
      ]
     },
     "metadata": {},
     "output_type": "display_data"
    }
   ],
   "source": [
    "plot(probs, xlab=\"Interval between two victories\", ylab=\"Probability\")"
   ]
  }
 ],
 "metadata": {
  "kernelspec": {
   "display_name": "R",
   "language": "R",
   "name": "ir"
  },
  "language_info": {
   "codemirror_mode": "r",
   "file_extension": ".r",
   "mimetype": "text/x-r-source",
   "name": "R",
   "pygments_lexer": "r",
   "version": "3.6.1"
  }
 },
 "nbformat": 4,
 "nbformat_minor": 4
}