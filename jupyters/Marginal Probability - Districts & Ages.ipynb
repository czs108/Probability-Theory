{
 "cells": [
  {
   "cell_type": "markdown",
   "metadata": {},
   "source": [
    "# Marginal Probability - Districts & Ages\n",
    "\n",
    "> This document is written in *R*.\n",
    ">\n",
    "> ***GitHub***: https://github.com/czs108"
   ]
  },
  {
   "cell_type": "markdown",
   "metadata": {},
   "source": [
    "## Background\n",
    "\n",
    "> The following table gives the *percentage of pupils* in a certain school from different *districts* and at different *ages*.\n",
    ">\n",
    "> | *District \\ Age* |  14  |  15  |  16  |  17  |\n",
    "> | :--------------: | :--: | :--: | :--: | :--: |\n",
    "> |    **North**     |  5%  | 10%  |  5%  | 10%  |\n",
    "> |    **Center**    | 10%  | 15%  |  5%  |  5%  |\n",
    "> |    **South**     | 15%  | 10%  |  5%  |  5%  |"
   ]
  },
  {
   "cell_type": "markdown",
   "metadata": {},
   "source": [
    "## Question A\n",
    "\n",
    "> Give values for the following probabilities."
   ]
  },
  {
   "cell_type": "markdown",
   "metadata": {},
   "source": [
    "### Question 1\n",
    "\n",
    "\\begin{align}\n",
    "P(age = 15)\n",
    "    &= \\sum_{i = North,Center,South} P(age = 15\\, \\cap\\, district = i) \\\\\n",
    "    &= 10\\% + 15\\% + 10\\% \\\\\n",
    "    &= 35\\%\n",
    "\\end{split}\n",
    "\\end{equation}"
   ]
  },
  {
   "cell_type": "markdown",
   "metadata": {},
   "source": [
    "### Question 2\n",
    "\n",
    "\\begin{equation}\n",
    "\\begin{split}\n",
    "P(district = Center)\n",
    "    &= \\sum_{i = 14}^{17} P(age = i\\, \\cap\\, district = Center) \\\\\n",
    "    &= 10\\% + 15\\% + 5\\% + 5\\% \\\\\n",
    "    &= 35\\%\n",
    "\\end{split}\n",
    "\\end{equation}"
   ]
  },
  {
   "cell_type": "markdown",
   "metadata": {},
   "source": [
    "### Question 3\n",
    "\n",
    "\\begin{equation}\n",
    "\\begin{split}\n",
    "P(age = 15\\, \\mid\\, district = Center)\n",
    "    &= \\frac{P(age = 15\\, \\cap\\, district = Center)}{P(district = Center)} \\\\\n",
    "    &= \\frac{15\\%}{35\\%}\n",
    "\\end{split}\n",
    "\\end{equation}"
   ]
  },
  {
   "cell_type": "markdown",
   "metadata": {},
   "source": [
    "### Question 4\n",
    "\n",
    "\\begin{equation}\n",
    "\\begin{split}\n",
    "P(age = 15\\, \\cap\\, district = Center)\n",
    "    &= P(district = Center) \\cdot P(age = 15\\, \\mid\\, district = Center) \\\\\n",
    "    &= 35\\% \\times \\frac{15\\%}{35\\%} \\\\\n",
    "    &= 15\\%\n",
    "\\end{split}\n",
    "\\end{equation}"
   ]
  },
  {
   "cell_type": "markdown",
   "metadata": {},
   "source": [
    "### Question 5\n",
    "\n",
    "\\begin{equation}\n",
    "\\begin{split}\n",
    "P(age = 15\\, \\cup\\, district = Center)\n",
    "    &= P(age = 15) + P(district = Center) - P(age = 15\\, \\cap\\, district = Center) \\\\\n",
    "    &= 35\\% + 35\\% - 15\\% \\\\\n",
    "    &= 55\\%\n",
    "\\end{split}\n",
    "\\end{equation}"
   ]
  },
  {
   "cell_type": "markdown",
   "metadata": {},
   "source": [
    "## Question B\n",
    "\n",
    "> What are the *mean* and *variance* of *age*?"
   ]
  },
  {
   "cell_type": "markdown",
   "metadata": {},
   "source": [
    "\\begin{equation}\n",
    "Mean = \\sum_{i = 14}^{17} i \\cdot P(age = i)\n",
    "\\end{equation}\n",
    "\n",
    "\\begin{equation}\n",
    "Variance = \\sum_{i = 14}^{17} (i - \\overline{i})^2 \\cdot P(age = i)\n",
    "\\end{equation}"
   ]
  },
  {
   "cell_type": "code",
   "execution_count": 1,
   "metadata": {},
   "outputs": [
    {
     "name": "stdout",
     "output_type": "stream",
     "text": [
      "[1] Mean = 15.2\n",
      "[1] Variance = 1.2\n"
     ]
    }
   ],
   "source": [
    "ages <- c(14:17)\n",
    "probs <- c(0.30, 0.35, 0.15, 0.20)\n",
    "mean <- sum(ages * probs)\n",
    "var <- sum(((ages - mean) ^ 2) * probs)\n",
    "\n",
    "print(sprintf(\"Mean = %.1f\", mean), quote=FALSE)\n",
    "print(sprintf(\"Variance = %.1f\", var), quote=FALSE)"
   ]
  },
  {
   "cell_type": "markdown",
   "metadata": {},
   "source": [
    "## Question C\n",
    "\n",
    "> Use the `barplot` to visualize the table."
   ]
  },
  {
   "cell_type": "markdown",
   "metadata": {},
   "source": [
    "Store the data in a matrix."
   ]
  },
  {
   "cell_type": "code",
   "execution_count": 2,
   "metadata": {},
   "outputs": [
    {
     "data": {
      "text/html": [
       "<table>\n",
       "<tbody>\n",
       "\t<tr><td> 5</td><td>10</td><td>5 </td><td>10</td></tr>\n",
       "\t<tr><td>10</td><td>15</td><td>5 </td><td> 5</td></tr>\n",
       "\t<tr><td>15</td><td>10</td><td>5 </td><td> 5</td></tr>\n",
       "</tbody>\n",
       "</table>\n"
      ],
      "text/latex": [
       "\\begin{tabular}{llll}\n",
       "\t  5 & 10 & 5  & 10\\\\\n",
       "\t 10 & 15 & 5  &  5\\\\\n",
       "\t 15 & 10 & 5  &  5\\\\\n",
       "\\end{tabular}\n"
      ],
      "text/markdown": [
       "\n",
       "|  5 | 10 | 5  | 10 |\n",
       "| 10 | 15 | 5  |  5 |\n",
       "| 15 | 10 | 5  |  5 |\n",
       "\n"
      ],
      "text/plain": [
       "     [,1] [,2] [,3] [,4]\n",
       "[1,]  5   10   5    10  \n",
       "[2,] 10   15   5     5  \n",
       "[3,] 15   10   5     5  "
      ]
     },
     "metadata": {},
     "output_type": "display_data"
    }
   ],
   "source": [
    "prcnt <- c(5, 10, 5, 10, 10, 15, 5, 5, 15, 10, 5, 5)\n",
    "prcnt <- matrix(prcnt, nrow=3, byrow=TRUE)\n",
    "\n",
    "prcnt"
   ]
  },
  {
   "cell_type": "markdown",
   "metadata": {},
   "source": [
    "Add row names and column names."
   ]
  },
  {
   "cell_type": "code",
   "execution_count": 3,
   "metadata": {},
   "outputs": [
    {
     "data": {
      "text/html": [
       "<table>\n",
       "<thead><tr><th></th><th scope=col>14</th><th scope=col>15</th><th scope=col>16</th><th scope=col>17</th></tr></thead>\n",
       "<tbody>\n",
       "\t<tr><th scope=row>North</th><td> 5</td><td>10</td><td>5 </td><td>10</td></tr>\n",
       "\t<tr><th scope=row>Center</th><td>10</td><td>15</td><td>5 </td><td> 5</td></tr>\n",
       "\t<tr><th scope=row>South</th><td>15</td><td>10</td><td>5 </td><td> 5</td></tr>\n",
       "</tbody>\n",
       "</table>\n"
      ],
      "text/latex": [
       "\\begin{tabular}{r|llll}\n",
       "  & 14 & 15 & 16 & 17\\\\\n",
       "\\hline\n",
       "\tNorth &  5 & 10 & 5  & 10\\\\\n",
       "\tCenter & 10 & 15 & 5  &  5\\\\\n",
       "\tSouth & 15 & 10 & 5  &  5\\\\\n",
       "\\end{tabular}\n"
      ],
      "text/markdown": [
       "\n",
       "| <!--/--> | 14 | 15 | 16 | 17 |\n",
       "|---|---|---|---|---|\n",
       "| North |  5 | 10 | 5  | 10 |\n",
       "| Center | 10 | 15 | 5  |  5 |\n",
       "| South | 15 | 10 | 5  |  5 |\n",
       "\n"
      ],
      "text/plain": [
       "       14 15 16 17\n",
       "North   5 10 5  10\n",
       "Center 10 15 5   5\n",
       "South  15 10 5   5"
      ]
     },
     "metadata": {},
     "output_type": "display_data"
    }
   ],
   "source": [
    "colnames(prcnt) <- c(14:17)\n",
    "rownames(prcnt) <- c(\"North\", \"Center\", \"South\")\n",
    "\n",
    "prcnt"
   ]
  },
  {
   "cell_type": "code",
   "execution_count": 4,
   "metadata": {},
   "outputs": [
    {
     "data": {
      "image/png": "[encoded data removed]",
      "text/plain": [
       "plot without title"
      ]
     },
     "metadata": {},
     "output_type": "display_data"
    }
   ],
   "source": [
    "barplot(prcnt, xlab=\"Age\", ylab=\"Percentage\", legend.text=TRUE)"
   ]
  }
 ],
 "metadata": {
  "kernelspec": {
   "display_name": "R",
   "language": "R",
   "name": "ir"
  },
  "language_info": {
   "codemirror_mode": "r",
   "file_extension": ".r",
   "mimetype": "text/x-r-source",
   "name": "R",
   "pygments_lexer": "r",
   "version": "3.6.1"
  }
 },
 "nbformat": 4,
 "nbformat_minor": 4
}