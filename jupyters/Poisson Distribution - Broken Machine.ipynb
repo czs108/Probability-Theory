{
 "cells": [
  {
   "cell_type": "markdown",
   "metadata": {},
   "source": [
    "# Poisson Distribution - Broken Machine\n",
    "\n",
    "> This document is written in *R*.\n",
    ">\n",
    "> ***GitHub***: https://github.com/czs108"
   ]
  },
  {
   "cell_type": "markdown",
   "metadata": {},
   "source": [
    "## Background\n",
    "\n",
    "> Suppose the *mean* number of machine malfunctions per week, or rate of malfunctions, is **3.4**."
   ]
  },
  {
   "cell_type": "markdown",
   "metadata": {},
   "source": [
    "## Question A\n",
    "\n",
    "> What's the probability of the machine *not* malfunctioning next week?"
   ]
  },
  {
   "cell_type": "markdown",
   "metadata": {},
   "source": [
    "\\begin{equation}\n",
    "\\lambda = 3.4\n",
    "\\end{equation}\n",
    "\n",
    "\\begin{equation}\n",
    "\\begin{split}\n",
    "P(X = 0) &= \\frac{e^{-3.4} \\times {3.4}^{0}}{0!} \\\\\n",
    "    &= e^{-3.4} \\\\\n",
    "    &= 0.033\n",
    "\\end{split}\n",
    "\\end{equation}"
   ]
  },
  {
   "cell_type": "markdown",
   "metadata": {},
   "source": [
    "Use the `dpois` function directly."
   ]
  },
  {
   "cell_type": "code",
   "execution_count": 1,
   "metadata": {},
   "outputs": [
    {
     "data": {
      "text/html": [
       "0.0333732699603261"
      ],
      "text/latex": [
       "0.0333732699603261"
      ],
      "text/markdown": [
       "0.0333732699603261"
      ],
      "text/plain": [
       "[1] 0.03337327"
      ]
     },
     "metadata": {},
     "output_type": "display_data"
    }
   ],
   "source": [
    "dpois(x=0, lambda=3.4)"
   ]
  },
  {
   "cell_type": "markdown",
   "metadata": {},
   "source": [
    "Or use the `exp` function."
   ]
  },
  {
   "cell_type": "code",
   "execution_count": 2,
   "metadata": {},
   "outputs": [
    {
     "data": {
      "text/html": [
       "0.0333732699603261"
      ],
      "text/latex": [
       "0.0333732699603261"
      ],
      "text/markdown": [
       "0.0333732699603261"
      ],
      "text/plain": [
       "[1] 0.03337327"
      ]
     },
     "metadata": {},
     "output_type": "display_data"
    }
   ],
   "source": [
    "exp(-3.4)"
   ]
  },
  {
   "cell_type": "markdown",
   "metadata": {},
   "source": [
    "## Question B\n",
    "\n",
    "> What's the probability of the machine malfunctioning **3** times next week?"
   ]
  },
  {
   "cell_type": "markdown",
   "metadata": {},
   "source": [
    "\\begin{equation}\n",
    "\\begin{split}\n",
    "P(X = 3) &= \\frac{e^{-3.4} \\times {3.4}^{3}}{3!} \\\\\n",
    "    &= 0.2186\n",
    "\\end{split}\n",
    "\\end{equation}"
   ]
  },
  {
   "cell_type": "code",
   "execution_count": 3,
   "metadata": {},
   "outputs": [
    {
     "data": {
      "text/html": [
       "0.218617167086776"
      ],
      "text/latex": [
       "0.218617167086776"
      ],
      "text/markdown": [
       "0.218617167086776"
      ],
      "text/plain": [
       "[1] 0.2186172"
      ]
     },
     "metadata": {},
     "output_type": "display_data"
    }
   ],
   "source": [
    "dpois(x=3, lambda=3.4)"
   ]
  },
  {
   "cell_type": "markdown",
   "metadata": {},
   "source": [
    "## Question C\n",
    "\n",
    "> What's the *expectation* and *variance* of the machine malfunctions?"
   ]
  },
  {
   "cell_type": "markdown",
   "metadata": {},
   "source": [
    "\\begin{equation}\n",
    "E(X) = \\lambda = 3.4\n",
    "\\end{equation}\n",
    "\n",
    "\\begin{equation}\n",
    "Var(X) = \\lambda = 3.4\n",
    "\\end{equation}"
   ]
  }
 ],
 "metadata": {
  "kernelspec": {
   "display_name": "R",
   "language": "R",
   "name": "ir"
  },
  "language_info": {
   "codemirror_mode": "r",
   "file_extension": ".r",
   "mimetype": "text/x-r-source",
   "name": "R",
   "pygments_lexer": "r",
   "version": "3.6.1"
  }
 },
 "nbformat": 4,
 "nbformat_minor": 4
}