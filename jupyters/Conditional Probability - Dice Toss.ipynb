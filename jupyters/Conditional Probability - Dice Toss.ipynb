{
 "cells": [
  {
   "cell_type": "markdown",
   "metadata": {},
   "source": [
    "# Conditional Probability - Dice Toss\n",
    "\n",
    "> This document is written in *R*.\n",
    ">\n",
    "> ***GitHub***: https://github.com/czs108"
   ]
  },
  {
   "cell_type": "markdown",
   "metadata": {},
   "source": [
    "## Background\n",
    "\n",
    "> If you throw **2** dice, let the *total* score be $X$."
   ]
  },
  {
   "cell_type": "code",
   "execution_count": 1,
   "metadata": {
    "vscode": {
     "languageId": "r"
    }
   },
   "outputs": [
    {
     "data": {
      "text/html": [
       "<table>\n",
       "<tbody>\n",
       "\t<tr><td>2 </td><td>3 </td><td>4 </td><td> 5</td><td> 6</td><td> 7</td></tr>\n",
       "\t<tr><td>3 </td><td>4 </td><td>5 </td><td> 6</td><td> 7</td><td> 8</td></tr>\n",
       "\t<tr><td>4 </td><td>5 </td><td>6 </td><td> 7</td><td> 8</td><td> 9</td></tr>\n",
       "\t<tr><td>5 </td><td>6 </td><td>7 </td><td> 8</td><td> 9</td><td>10</td></tr>\n",
       "\t<tr><td>6 </td><td>7 </td><td>8 </td><td> 9</td><td>10</td><td>11</td></tr>\n",
       "\t<tr><td>7 </td><td>8 </td><td>9 </td><td>10</td><td>11</td><td>12</td></tr>\n",
       "</tbody>\n",
       "</table>\n"
      ],
      "text/latex": [
       "\\begin{tabular}{llllll}\n",
       "\t 2  & 3  & 4  &  5 &  6 &  7\\\\\n",
       "\t 3  & 4  & 5  &  6 &  7 &  8\\\\\n",
       "\t 4  & 5  & 6  &  7 &  8 &  9\\\\\n",
       "\t 5  & 6  & 7  &  8 &  9 & 10\\\\\n",
       "\t 6  & 7  & 8  &  9 & 10 & 11\\\\\n",
       "\t 7  & 8  & 9  & 10 & 11 & 12\\\\\n",
       "\\end{tabular}\n"
      ],
      "text/markdown": [
       "\n",
       "| 2  | 3  | 4  |  5 |  6 |  7 |\n",
       "| 3  | 4  | 5  |  6 |  7 |  8 |\n",
       "| 4  | 5  | 6  |  7 |  8 |  9 |\n",
       "| 5  | 6  | 7  |  8 |  9 | 10 |\n",
       "| 6  | 7  | 8  |  9 | 10 | 11 |\n",
       "| 7  | 8  | 9  | 10 | 11 | 12 |\n",
       "\n"
      ],
      "text/plain": [
       "     [,1] [,2] [,3] [,4] [,5] [,6]\n",
       "[1,] 2    3    4     5    6    7  \n",
       "[2,] 3    4    5     6    7    8  \n",
       "[3,] 4    5    6     7    8    9  \n",
       "[4,] 5    6    7     8    9   10  \n",
       "[5,] 6    7    8     9   10   11  \n",
       "[6,] 7    8    9    10   11   12  "
      ]
     },
     "metadata": {},
     "output_type": "display_data"
    }
   ],
   "source": [
    "scores <- matrix(nrow=6, ncol=6)\n",
    "for (i in c(1:6)) {\n",
    "    for (j in c(1:6)) {\n",
    "        scores[i, j] <- i + j\n",
    "    }\n",
    "}\n",
    "\n",
    "scores"
   ]
  },
  {
   "cell_type": "code",
   "execution_count": 2,
   "metadata": {
    "vscode": {
     "languageId": "r"
    }
   },
   "outputs": [
    {
     "data": {
      "image/png": "[encoded data removed]",
      "text/plain": [
       "Plot with title \"Histogram of scores\""
      ]
     },
     "metadata": {},
     "output_type": "display_data"
    }
   ],
   "source": [
    "hist(scores, xlab=\"Score\", ylab=\"Count\", breaks=c(1.5:12.5))"
   ]
  },
  {
   "cell_type": "markdown",
   "metadata": {},
   "source": [
    "## Question A\n",
    "\n",
    "> What are the probabilities of each value of $X$? "
   ]
  },
  {
   "cell_type": "code",
   "execution_count": 3,
   "metadata": {
    "vscode": {
     "languageId": "r"
    }
   },
   "outputs": [
    {
     "data": {
      "text/plain": [
       "scores\n",
       "   2    3    4    5    6    7    8    9   10   11   12 \n",
       "0.03 0.06 0.08 0.11 0.14 0.17 0.14 0.11 0.08 0.06 0.03 "
      ]
     },
     "metadata": {},
     "output_type": "display_data"
    }
   ],
   "source": [
    "probs <- round(table(scores) / (6 * 6), 2)\n",
    "\n",
    "probs"
   ]
  },
  {
   "cell_type": "markdown",
   "metadata": {},
   "source": [
    "## Question B\n",
    "\n",
    "\\begin{equation}\n",
    "\\begin{split}\n",
    "P(1\\ of\\ the\\ scores = 4\\, \\mid\\, X = 9)\n",
    "    &= \\frac{P(\\{4, 5\\}) + P(\\{5, 4\\})}{\\sum_{sum(i, j) = 9} P(\\{i, j\\})} \\\\\n",
    "    &= \\frac{2}{4}\n",
    "\\end{split}\n",
    "\\end{equation}"
   ]
  },
  {
   "attachments": {},
   "cell_type": "markdown",
   "metadata": {},
   "source": [
    "## Question C\n",
    "\n",
    "\\begin{equation}\n",
    "\\begin{split}\n",
    "P(X = 9\\, \\mid\\, only\\ 1\\ score = 4)\n",
    "    &= \\frac{\\sum_{sum(i, j) = 9} P(\\{i, j\\})}{\\sum_{j = 1, j \\neq 4}^{6} P(\\{4, j\\}) + \\sum_{i = 1, i \\neq 4}^{6} P(\\{i, 4\\})} \\\\\n",
    "    &= \\frac{4}{10}\n",
    "\\end{split}\n",
    "\\end{equation}"
   ]
  },
  {
   "attachments": {},
   "cell_type": "markdown",
   "metadata": {},
   "source": [
    "## Question D\n",
    "\n",
    "\\begin{equation}\n",
    "\\begin{split}\n",
    "P(at\\ least\\ 1\\ score = 4)\n",
    "    &= \\sum_{j = 1}^{6} P(\\{4, j\\}) + \\sum_{i = 1}^{6} P(\\{i, 4\\}) - P(\\{4, 4\\}) \\\\\n",
    "    &= \\frac{11}{36}\n",
    "\\end{split}\n",
    "\\end{equation}"
   ]
  },
  {
   "cell_type": "markdown",
   "metadata": {},
   "source": [
    "## Question E\n",
    "\n",
    "\\begin{equation}\n",
    "\\begin{split}\n",
    "P(2\\ scores\\ are\\ the\\ same)\n",
    "    &= \\sum_{i = 1}^{6} P(\\{i, i\\}) \\\\\n",
    "    &= \\frac{6}{36}\n",
    "\\end{split}\n",
    "\\end{equation}"
   ]
  },
  {
   "cell_type": "markdown",
   "metadata": {},
   "source": [
    "## Question F\n",
    "\n",
    "> What are the *mean* and *variance* of $X$?"
   ]
  },
  {
   "cell_type": "code",
   "execution_count": 4,
   "metadata": {
    "vscode": {
     "languageId": "r"
    }
   },
   "outputs": [
    {
     "name": "stdout",
     "output_type": "stream",
     "text": [
      "[1] Mean = 7.07\n",
      "[1] Variance = 6.02\n"
     ]
    }
   ],
   "source": [
    "probs <- list(\"score\"=as.numeric(names(probs)), \"prob\"=as.numeric(probs))\n",
    "\n",
    "mean <- with(probs, sum(score * prob))\n",
    "var <- with(probs, sum(((score - mean) ^ 2) * prob))\n",
    "\n",
    "print(sprintf(\"Mean = %.2f\", mean), quote=FALSE)\n",
    "print(sprintf(\"Variance = %.2f\", var), quote=FALSE)"
   ]
  }
 ],
 "metadata": {
  "kernelspec": {
   "display_name": "R",
   "language": "R",
   "name": "ir"
  },
  "language_info": {
   "codemirror_mode": "r",
   "file_extension": ".r",
   "mimetype": "text/x-r-source",
   "name": "R",
   "pygments_lexer": "r",
   "version": "3.6.1"
  }
 },
 "nbformat": 4,
 "nbformat_minor": 4
}
