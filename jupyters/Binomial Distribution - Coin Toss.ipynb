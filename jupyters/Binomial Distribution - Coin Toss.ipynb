{
 "cells": [
  {
   "cell_type": "markdown",
   "metadata": {},
   "source": [
    "# Binomial Distribution - Coin Toss\n",
    "\n",
    "> This document is written in *R*.\n",
    ">\n",
    "> ***GitHub***: https://github.com/czs108"
   ]
  },
  {
   "cell_type": "markdown",
   "metadata": {},
   "source": [
    "## Background\n",
    "\n",
    "> Suppose you conduct a series of experiments, each of which consists of tossing a fair coin **6** times. Let $X$ be the number of *heads*."
   ]
  },
  {
   "cell_type": "markdown",
   "metadata": {},
   "source": [
    "## Question A\n",
    "\n",
    "> What are the probabilities of each value of $X$?"
   ]
  },
  {
   "cell_type": "markdown",
   "metadata": {},
   "source": [
    "\\begin{equation}\n",
    "P(X = r) =\\, ^{6}C_{r} \\cdot 0.5^{r} \\cdot 0.5^{6 - r}\n",
    "\\end{equation}"
   ]
  },
  {
   "cell_type": "code",
   "execution_count": 1,
   "metadata": {
    "vscode": {
     "languageId": "r"
    }
   },
   "outputs": [
    {
     "data": {
      "text/html": [
       "<ol class=list-inline>\n",
       "\t<li>0.015625</li>\n",
       "\t<li>0.09375</li>\n",
       "\t<li>0.234375</li>\n",
       "\t<li>0.3125</li>\n",
       "\t<li>0.234375</li>\n",
       "\t<li>0.09375</li>\n",
       "\t<li>0.015625</li>\n",
       "</ol>\n"
      ],
      "text/latex": [
       "\\begin{enumerate*}\n",
       "\\item 0.015625\n",
       "\\item 0.09375\n",
       "\\item 0.234375\n",
       "\\item 0.3125\n",
       "\\item 0.234375\n",
       "\\item 0.09375\n",
       "\\item 0.015625\n",
       "\\end{enumerate*}\n"
      ],
      "text/markdown": [
       "1. 0.015625\n",
       "2. 0.09375\n",
       "3. 0.234375\n",
       "4. 0.3125\n",
       "5. 0.234375\n",
       "6. 0.09375\n",
       "7. 0.015625\n",
       "\n",
       "\n"
      ],
      "text/plain": [
       "[1] 0.015625 0.093750 0.234375 0.312500 0.234375 0.093750 0.015625"
      ]
     },
     "metadata": {},
     "output_type": "display_data"
    }
   ],
   "source": [
    "heads <- c(0:6)\n",
    "\n",
    "probs <- choose(n=6, k=heads) * (0.5 ^ heads) * (0.5 ^ (6 - heads))\n",
    "probs"
   ]
  },
  {
   "cell_type": "markdown",
   "metadata": {},
   "source": [
    "Use the `dbinom` function directly."
   ]
  },
  {
   "cell_type": "code",
   "execution_count": 2,
   "metadata": {
    "vscode": {
     "languageId": "r"
    }
   },
   "outputs": [
    {
     "data": {
      "text/html": [
       "<ol class=list-inline>\n",
       "\t<li>0.015625</li>\n",
       "\t<li>0.09375</li>\n",
       "\t<li>0.234375</li>\n",
       "\t<li>0.3125</li>\n",
       "\t<li>0.234375</li>\n",
       "\t<li>0.09375</li>\n",
       "\t<li>0.015625</li>\n",
       "</ol>\n"
      ],
      "text/latex": [
       "\\begin{enumerate*}\n",
       "\\item 0.015625\n",
       "\\item 0.09375\n",
       "\\item 0.234375\n",
       "\\item 0.3125\n",
       "\\item 0.234375\n",
       "\\item 0.09375\n",
       "\\item 0.015625\n",
       "\\end{enumerate*}\n"
      ],
      "text/markdown": [
       "1. 0.015625\n",
       "2. 0.09375\n",
       "3. 0.234375\n",
       "4. 0.3125\n",
       "5. 0.234375\n",
       "6. 0.09375\n",
       "7. 0.015625\n",
       "\n",
       "\n"
      ],
      "text/plain": [
       "[1] 0.015625 0.093750 0.234375 0.312500 0.234375 0.093750 0.015625"
      ]
     },
     "metadata": {},
     "output_type": "display_data"
    }
   ],
   "source": [
    "dbinom(x=heads, prob=0.5, size=6)"
   ]
  },
  {
   "cell_type": "code",
   "execution_count": 3,
   "metadata": {
    "vscode": {
     "languageId": "r"
    }
   },
   "outputs": [
    {
     "data": {
      "image/png": "[encoded data removed]",
      "text/plain": [
       "plot without title"
      ]
     },
     "metadata": {},
     "output_type": "display_data"
    }
   ],
   "source": [
    "barplot(probs ~ c(0:6), xlab=\"Number of heads\", ylab=\"Probability\")"
   ]
  },
  {
   "cell_type": "markdown",
   "metadata": {},
   "source": [
    "## Question B\n",
    "\n",
    "\\begin{equation}\n",
    "\\begin{split}\n",
    "P(1st = head \\mid X = 4)\n",
    "    &= \\frac{P(1st = head \\cap X = 4)}{P(X = 4)} \\\\\n",
    "    &= \\frac{^{5}C_{3}}{^{6}C_{4}} \\\\\n",
    "    &= 0.6667\n",
    "\\end{split}\n",
    "\\end{equation}"
   ]
  },
  {
   "cell_type": "markdown",
   "metadata": {},
   "source": [
    "## Question C\n",
    "\n",
    "\\begin{equation}\n",
    "\\begin{split}\n",
    "P(X = 4 \\mid 1st = head)\n",
    "    &= \\frac{P(1st = head \\cap X = 4)}{P(1st = head)} \\\\\n",
    "    &= \\frac{^{5}C_{3}}{2^{5}} \\\\\n",
    "    &= 0.3125\n",
    "\\end{split}\n",
    "\\end{equation}"
   ]
  },
  {
   "cell_type": "code",
   "execution_count": 4,
   "metadata": {
    "vscode": {
     "languageId": "r"
    }
   },
   "outputs": [
    {
     "data": {
      "text/html": [
       "0.3125"
      ],
      "text/latex": [
       "0.3125"
      ],
      "text/markdown": [
       "0.3125"
      ],
      "text/plain": [
       "[1] 0.3125"
      ]
     },
     "metadata": {},
     "output_type": "display_data"
    }
   ],
   "source": [
    "dbinom(x=3, prob=0.5, size=5)"
   ]
  },
  {
   "cell_type": "markdown",
   "metadata": {},
   "source": [
    "## Question D\n",
    "\n",
    "> Suppose the event\n",
    "\n",
    "\\begin{equation}\n",
    "A = \\text{The 1st trial where X = 6 is 10th.}\n",
    "\\end{equation}\n",
    "\n",
    "> Find out\n",
    "\n",
    "\\begin{equation}\n",
    "P(A)\n",
    "\\end{equation}"
   ]
  },
  {
   "attachments": {},
   "cell_type": "markdown",
   "metadata": {},
   "source": [
    "It is a *Geometric Distribution*.\n",
    "\n",
    "\\begin{equation}\n",
    "p = P(X = 6) = \\frac{1}{2^{6}}\n",
    "\\end{equation}\n",
    "\n",
    "\\begin{equation}\n",
    "\\begin{split}\n",
    "P(A) &= (1 - p)^{9} \\cdot p \\\\\n",
    "    &= (1 - \\frac{1}{2^{6}})^{9} \\times \\frac{1}{2^{6}} \\\\\n",
    "    &= 0.0136\n",
    "\\end{split}\n",
    "\\end{equation}"
   ]
  },
  {
   "cell_type": "markdown",
   "metadata": {},
   "source": [
    "## Question E\n",
    "\n",
    "\\begin{equation}\n",
    "\\begin{split}\n",
    "P(X > 4) &= P(X = 5) + P(X = 6) \\\\\n",
    "    &= \\frac{^{6}C_{5} +\\, ^{6}C_{6}}{2^6} \\\\\n",
    "    &= 0.1094\n",
    "\\end{split}\n",
    "\\end{equation}"
   ]
  },
  {
   "cell_type": "markdown",
   "metadata": {},
   "source": [
    "Use the `pbinom` function."
   ]
  },
  {
   "cell_type": "code",
   "execution_count": 5,
   "metadata": {
    "vscode": {
     "languageId": "r"
    }
   },
   "outputs": [
    {
     "data": {
      "text/html": [
       "0.109375"
      ],
      "text/latex": [
       "0.109375"
      ],
      "text/markdown": [
       "0.109375"
      ],
      "text/plain": [
       "[1] 0.109375"
      ]
     },
     "metadata": {},
     "output_type": "display_data"
    }
   ],
   "source": [
    "1 - pbinom(q=4, prob=0.5, size=6)"
   ]
  },
  {
   "cell_type": "markdown",
   "metadata": {},
   "source": [
    "## Question F\n",
    "\n",
    "> What is the *mean* of $X$?"
   ]
  },
  {
   "cell_type": "markdown",
   "metadata": {},
   "source": [
    "Suppose\n",
    "\n",
    "\\begin{equation}\n",
    "N = \\text{The number of trials needed to get the first head.}\n",
    "\\end{equation}\n",
    "\n",
    "The the *expectation* is\n",
    "\n",
    "\\begin{equation}\n",
    "E(N) = \\frac{1}{0.5} = 2\n",
    "\\end{equation}\n",
    "\n",
    "There are **6** trials.\n",
    "\n",
    "\\begin{equation}\n",
    "E(X) = \\frac{6}{E(N)} = 3\n",
    "\\end{equation}"
   ]
  },
  {
   "cell_type": "code",
   "execution_count": 6,
   "metadata": {
    "vscode": {
     "languageId": "r"
    }
   },
   "outputs": [
    {
     "data": {
      "text/html": [
       "3"
      ],
      "text/latex": [
       "3"
      ],
      "text/markdown": [
       "3"
      ],
      "text/plain": [
       "[1] 3"
      ]
     },
     "metadata": {},
     "output_type": "display_data"
    }
   ],
   "source": [
    "mean <- sum(heads * probs)\n",
    "mean"
   ]
  }
 ],
 "metadata": {
  "kernelspec": {
   "display_name": "R",
   "language": "R",
   "name": "ir"
  },
  "language_info": {
   "codemirror_mode": "r",
   "file_extension": ".r",
   "mimetype": "text/x-r-source",
   "name": "R",
   "pygments_lexer": "r",
   "version": "3.6.1"
  }
 },
 "nbformat": 4,
 "nbformat_minor": 4
}
