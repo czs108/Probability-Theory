{
 "cells": [
  {
   "cell_type": "markdown",
   "metadata": {},
   "source": [
    "# Poisson Distribution - Waiting Time\n",
    "\n",
    "> This document is written in *R*.\n",
    ">\n",
    "> ***GitHub***: https://github.com/czs108"
   ]
  },
  {
   "cell_type": "markdown",
   "metadata": {},
   "source": [
    "## Background\n",
    "\n",
    "> A certain call centre receives on average **5** calls per minute."
   ]
  },
  {
   "cell_type": "markdown",
   "metadata": {},
   "source": [
    "## Question A\n",
    "\n",
    "> What is the probability of receiving **3** calls in any given minute?"
   ]
  },
  {
   "cell_type": "markdown",
   "metadata": {},
   "source": [
    "\\begin{equation}\n",
    "\\lambda = 5\n",
    "\\end{equation}\n",
    "\n",
    "\\begin{equation}\n",
    "\\begin{split}\n",
    "P(X = 3) &= \\frac{e^{-5} \\times {5}^{3}}{3!} \\\\\n",
    "    &= 0.1404\n",
    "\\end{split}\n",
    "\\end{equation}"
   ]
  },
  {
   "cell_type": "markdown",
   "metadata": {},
   "source": [
    "Use the `dpois` function."
   ]
  },
  {
   "cell_type": "code",
   "execution_count": 1,
   "metadata": {},
   "outputs": [
    {
     "data": {
      "text/html": [
       "0.140373895814281"
      ],
      "text/latex": [
       "0.140373895814281"
      ],
      "text/markdown": [
       "0.140373895814281"
      ],
      "text/plain": [
       "[1] 0.1403739"
      ]
     },
     "metadata": {},
     "output_type": "display_data"
    }
   ],
   "source": [
    "dpois(x=3, lambda=5)"
   ]
  },
  {
   "cell_type": "markdown",
   "metadata": {},
   "source": [
    "## Question B\n",
    "\n",
    "> What is the probability of receiving *no* calls in **2** minutes? "
   ]
  },
  {
   "cell_type": "markdown",
   "metadata": {},
   "source": [
    "\\begin{equation}\n",
    "\\lambda = 5 \\times 2 = 10\n",
    "\\end{equation}\n",
    "\n",
    "\\begin{equation}\n",
    "\\begin{split}\n",
    "P(X = 0) &= \\frac{e^{-10} \\times {10}^{0}}{0!} \\\\\n",
    "    &= e^{-10}\n",
    "\\end{split}\n",
    "\\end{equation}"
   ]
  },
  {
   "cell_type": "code",
   "execution_count": 2,
   "metadata": {},
   "outputs": [
    {
     "data": {
      "text/html": [
       "4.53999297624849e-05"
      ],
      "text/latex": [
       "4.53999297624849e-05"
      ],
      "text/markdown": [
       "4.53999297624849e-05"
      ],
      "text/plain": [
       "[1] 4.539993e-05"
      ]
     },
     "metadata": {},
     "output_type": "display_data"
    }
   ],
   "source": [
    "dpois(x=0, lambda=10)"
   ]
  },
  {
   "cell_type": "markdown",
   "metadata": {},
   "source": [
    "Or use the `exp` function directly."
   ]
  },
  {
   "cell_type": "code",
   "execution_count": 3,
   "metadata": {},
   "outputs": [
    {
     "data": {
      "text/html": [
       "4.53999297624849e-05"
      ],
      "text/latex": [
       "4.53999297624849e-05"
      ],
      "text/markdown": [
       "4.53999297624849e-05"
      ],
      "text/plain": [
       "[1] 4.539993e-05"
      ]
     },
     "metadata": {},
     "output_type": "display_data"
    }
   ],
   "source": [
    "exp(-10)"
   ]
  },
  {
   "cell_type": "markdown",
   "metadata": {},
   "source": [
    "## Question C\n",
    "\n",
    "> What is the probability of having to wait *less* than **1** minute for a call?"
   ]
  },
  {
   "cell_type": "markdown",
   "metadata": {},
   "source": [
    "\\begin{equation}\n",
    "\\begin{split}\n",
    "P(X \\geq 1) &= 1 - P(X = 0) \\\\\n",
    "    &= 1 - \\frac{e^{-5} \\times {5}^{0}}{0!} \\\\\n",
    "    &= 1 - e^{-5}\n",
    "\\end{split}\n",
    "\\end{equation}"
   ]
  },
  {
   "cell_type": "code",
   "execution_count": 4,
   "metadata": {},
   "outputs": [
    {
     "data": {
      "text/html": [
       "0.993262053000915"
      ],
      "text/latex": [
       "0.993262053000915"
      ],
      "text/markdown": [
       "0.993262053000915"
      ],
      "text/plain": [
       "[1] 0.9932621"
      ]
     },
     "metadata": {},
     "output_type": "display_data"
    }
   ],
   "source": [
    "1 - exp(-5)"
   ]
  },
  {
   "cell_type": "markdown",
   "metadata": {},
   "source": [
    "## Question D\n",
    "\n",
    "> Write down an equation for the time $t$ in which you could be **90%** certain of receiving a call."
   ]
  },
  {
   "cell_type": "markdown",
   "metadata": {},
   "source": [
    "\\begin{align}\n",
    "1 - P(X = 0) = 0.9 \\\\\n",
    "P(X = 0) = 0.1\n",
    "\\end{align}\n",
    "\n",
    "\\begin{equation}\n",
    "\\lambda = 5 \\cdot t\n",
    "\\end{equation}\n",
    "\n",
    "\\begin{equation}\n",
    "\\begin{split}\n",
    "P(X = 0) &= \\frac{e^{-\\lambda} \\times {\\lambda}^{0}}{0!} \\\\\n",
    "    &= e^{-\\lambda} \\\\\n",
    "    &= 0.1\n",
    "\\end{split}\n",
    "\\end{equation}\n",
    "\n",
    "Then we get\n",
    "\n",
    "\\begin{align}\n",
    "\\ln 0.1 = -2.3 \\\\\n",
    "\\lambda = 2.3\n",
    "\\end{align}"
   ]
  },
  {
   "cell_type": "code",
   "execution_count": 5,
   "metadata": {},
   "outputs": [
    {
     "data": {
      "text/html": [
       "-2.30258509299405"
      ],
      "text/latex": [
       "-2.30258509299405"
      ],
      "text/markdown": [
       "-2.30258509299405"
      ],
      "text/plain": [
       "[1] -2.302585"
      ]
     },
     "metadata": {},
     "output_type": "display_data"
    }
   ],
   "source": [
    "log(0.1)"
   ]
  },
  {
   "cell_type": "markdown",
   "metadata": {},
   "source": [
    "\\begin{equation}\n",
    "t = \\lambda \\div 5 = 0.46\n",
    "\\end{equation}"
   ]
  }
 ],
 "metadata": {
  "kernelspec": {
   "display_name": "R",
   "language": "R",
   "name": "ir"
  },
  "language_info": {
   "codemirror_mode": "r",
   "file_extension": ".r",
   "mimetype": "text/x-r-source",
   "name": "R",
   "pygments_lexer": "r",
   "version": "3.6.1"
  }
 },
 "nbformat": 4,
 "nbformat_minor": 4
}