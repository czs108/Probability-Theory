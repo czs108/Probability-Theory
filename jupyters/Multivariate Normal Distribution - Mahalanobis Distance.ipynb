{
 "cells": [
  {
   "cell_type": "markdown",
   "metadata": {},
   "source": [
    "# Multivariate Normal Distribution - Mahalanobis Distance\n",
    "\n",
    "> This document is written in *R*.\n",
    ">\n",
    "> ***GitHub***: https://github.com/czs108"
   ]
  },
  {
   "cell_type": "markdown",
   "metadata": {},
   "source": [
    "## Question A\n",
    "\n",
    "> Generate a sample of **1000** random points from a *Multivariate Normal Distribution* with *means* **0.0**, **0.0** and *standard deviations* of **1.5** along the $x$ axis and **0.5** along the $y$ axis.\n",
    ">\n",
    "> Plot the points on a graph with limits on the $x$ axis of $(-10,\\, 10)$ and limits on the $y$ axis of $(-10,\\, 10)$."
   ]
  },
  {
   "cell_type": "markdown",
   "metadata": {},
   "source": [
    "Use the `rnorm` function. "
   ]
  },
  {
   "cell_type": "code",
   "execution_count": 1,
   "metadata": {},
   "outputs": [
    {
     "data": {
      "image/png": "[encoded data removed]",
      "text/plain": [
       "plot without title"
      ]
     },
     "metadata": {},
     "output_type": "display_data"
    }
   ],
   "source": [
    "total <- 1000\n",
    "X.1 <- rnorm(n=total, mean=0, sd=1.5)\n",
    "Y.1 <- rnorm(n=total, mean=0, sd=0.5)\n",
    "\n",
    "plot(Y.1 ~ X.1, xlim=c(-10, 10), ylim=c(-10, 10), xlab=\"X\", ylab=\"Y\")"
   ]
  },
  {
   "cell_type": "markdown",
   "metadata": {},
   "source": [
    "## Question B\n",
    "\n",
    "> Generate a sample of **1000** random points from a *Multivariate Normal Distribution* with *means* **-4.0**, **0.0** and *standard deviations* of **0.5** along the $x$ axis and **1.5** along the $y$ axis.\n",
    ">\n",
    "> Plot the points on the current graph with color *blue*."
   ]
  },
  {
   "cell_type": "code",
   "execution_count": 2,
   "metadata": {},
   "outputs": [
    {
     "data": {
      "image/png": "[encoded data removed]",
      "text/plain": [
       "plot without title"
      ]
     },
     "metadata": {},
     "output_type": "display_data"
    }
   ],
   "source": [
    "X.2 <- rnorm(n=total, mean=-4.0, sd=0.5)\n",
    "Y.2 <- rnorm(n=total, mean=0, sd=1.5)\n",
    "\n",
    "plot(Y.1 ~ X.1, xlim=c(-10, 10), ylim=c(-10, 10), xlab=\"X\", ylab=\"Y\")\n",
    "points(Y.2 ~ X.2, col=\"blue\")"
   ]
  },
  {
   "cell_type": "markdown",
   "metadata": {},
   "source": [
    "## Question C\n",
    "\n",
    "> Compute the *Mahalanobis Distance* of each of the **2000** points from each of the distributions."
   ]
  },
  {
   "cell_type": "markdown",
   "metadata": {},
   "source": [
    "\\begin{equation}\n",
    "d^{2} = \\frac{(x - m_x)^2}{\\sigma^2_x} + \\frac{(y - m_y)^2}{\\sigma^2_y}\n",
    "\\end{equation}"
   ]
  },
  {
   "cell_type": "code",
   "execution_count": 3,
   "metadata": {},
   "outputs": [],
   "source": [
    "mahadist <- function(point, mean, sd) {\n",
    "    d.x <- ((point[1] - mean[1]) ^ 2) / (sd[1] ^ 2)\n",
    "    d.y <- ((point[2] - mean[2]) ^ 2) / (sd[2] ^ 2)\n",
    "    return (d.x + d.y)\n",
    "}"
   ]
  },
  {
   "cell_type": "code",
   "execution_count": 4,
   "metadata": {},
   "outputs": [
    {
     "data": {
      "text/html": [
       "<ol class=list-inline>\n",
       "\t<li>0.0835216640048668</li>\n",
       "\t<li>0.525807369423523</li>\n",
       "\t<li>2.89716097154469</li>\n",
       "\t<li>2.76312320046508</li>\n",
       "\t<li>0.570738446675666</li>\n",
       "</ol>\n"
      ],
      "text/latex": [
       "\\begin{enumerate*}\n",
       "\\item 0.0835216640048668\n",
       "\\item 0.525807369423523\n",
       "\\item 2.89716097154469\n",
       "\\item 2.76312320046508\n",
       "\\item 0.570738446675666\n",
       "\\end{enumerate*}\n"
      ],
      "text/markdown": [
       "1. 0.0835216640048668\n",
       "2. 0.525807369423523\n",
       "3. 2.89716097154469\n",
       "4. 2.76312320046508\n",
       "5. 0.570738446675666\n",
       "\n",
       "\n"
      ],
      "text/plain": [
       "[1] 0.08352166 0.52580737 2.89716097 2.76312320 0.57073845"
      ]
     },
     "metadata": {},
     "output_type": "display_data"
    },
    {
     "data": {
      "text/html": [
       "<ol class=list-inline>\n",
       "\t<li>0.849843382279618</li>\n",
       "\t<li>0.782329010614814</li>\n",
       "\t<li>0.0402248932660116</li>\n",
       "\t<li>3.79224983124425</li>\n",
       "\t<li>1.7885729380896</li>\n",
       "</ol>\n"
      ],
      "text/latex": [
       "\\begin{enumerate*}\n",
       "\\item 0.849843382279618\n",
       "\\item 0.782329010614814\n",
       "\\item 0.0402248932660116\n",
       "\\item 3.79224983124425\n",
       "\\item 1.7885729380896\n",
       "\\end{enumerate*}\n"
      ],
      "text/markdown": [
       "1. 0.849843382279618\n",
       "2. 0.782329010614814\n",
       "3. 0.0402248932660116\n",
       "4. 3.79224983124425\n",
       "5. 1.7885729380896\n",
       "\n",
       "\n"
      ],
      "text/plain": [
       "[1] 0.84984338 0.78232901 0.04022489 3.79224983 1.78857294"
      ]
     },
     "metadata": {},
     "output_type": "display_data"
    }
   ],
   "source": [
    "dist.1 <- NULL\n",
    "for (i in c(1:total)) {\n",
    "    dist.1[i] <- mahadist(c(X.1[i], Y.1[i]), c(0, 0), c(1.5, 0.5))\n",
    "}\n",
    "\n",
    "dist.2 <- NULL\n",
    "for (i in c(1:total)) {\n",
    "    dist.2[i] <- mahadist(c(X.2[i], Y.2[i]), c(-4.0, 0), c(0.5, 1.5))\n",
    "}\n",
    "\n",
    "dist.1[c(1:5)]\n",
    "dist.2[c(1:5)]"
   ]
  },
  {
   "cell_type": "markdown",
   "metadata": {},
   "source": [
    "## Question D\n",
    "\n",
    "> Classify each point using the *Mahalanobis Distance*. How accurate is your classifier?"
   ]
  },
  {
   "cell_type": "code",
   "execution_count": 5,
   "metadata": {},
   "outputs": [],
   "source": [
    "correct.1 <- NULL\n",
    "for (i in c(1:total)) {\n",
    "    if (dist.1[i] <= mahadist(c(X.1[i], Y.1[i]), c(-4.0, 0), c(0.5, 1.5))) {\n",
    "        correct.1[i] = TRUE\n",
    "    } else {\n",
    "        correct.1[i] = FALSE\n",
    "    }\n",
    "}\n",
    "\n",
    "correct.2 <- NULL\n",
    "for (i in c(1:total)) {\n",
    "    if (dist.2[i] <= mahadist(c(X.2[i], Y.2[i]), c(0, 0), c(1.5, 0.5))) {\n",
    "        correct.2[i] = TRUE\n",
    "    } else {\n",
    "        correct.2[i] = FALSE\n",
    "    }\n",
    "}"
   ]
  },
  {
   "cell_type": "markdown",
   "metadata": {},
   "source": [
    "For the *black* distribution, the accuracy is:"
   ]
  },
  {
   "cell_type": "code",
   "execution_count": 6,
   "metadata": {},
   "outputs": [
    {
     "data": {
      "text/html": [
       "0.972"
      ],
      "text/latex": [
       "0.972"
      ],
      "text/markdown": [
       "0.972"
      ],
      "text/plain": [
       "[1] 0.972"
      ]
     },
     "metadata": {},
     "output_type": "display_data"
    }
   ],
   "source": [
    "sum(correct.1) / total"
   ]
  },
  {
   "cell_type": "markdown",
   "metadata": {},
   "source": [
    "For the *blue* distribution, the accuracy is:"
   ]
  },
  {
   "cell_type": "code",
   "execution_count": 7,
   "metadata": {},
   "outputs": [
    {
     "data": {
      "text/html": [
       "0.994"
      ],
      "text/latex": [
       "0.994"
      ],
      "text/markdown": [
       "0.994"
      ],
      "text/plain": [
       "[1] 0.994"
      ]
     },
     "metadata": {},
     "output_type": "display_data"
    }
   ],
   "source": [
    "sum(correct.2) / total"
   ]
  },
  {
   "cell_type": "markdown",
   "metadata": {},
   "source": [
    "## Question E\n",
    "\n",
    "> In order to visualise the feature space, plot a grid of points on the current graph covering the whole space. Compute the *Mahalanobis Distances* at each point.\n",
    ">\n",
    "> Plot a *black* circle if the point is closer to the *black* distribution and *blue* point if it is closer to the *blue* distribution."
   ]
  },
  {
   "cell_type": "code",
   "execution_count": 8,
   "metadata": {},
   "outputs": [
    {
     "data": {
      "image/png": "[encoded data removed]",
      "text/plain": [
       "plot without title"
      ]
     },
     "metadata": {},
     "output_type": "display_data"
    }
   ],
   "source": [
    "loc.1.x <- NULL\n",
    "loc.1.y <- NULL\n",
    "loc.2.x <- NULL\n",
    "loc.2.y <- NULL\n",
    "\n",
    "for (x in c(-10:10)) {\n",
    "    for (y in c(-10:10)) {\n",
    "        dist.1 <- mahadist(c(x, y), c(0, 0), c(1.5, 0.5))\n",
    "        dist.2 <- mahadist(c(x, y), c(-4.0, 0), c(0.5, 1.5))\n",
    "        if (dist.1 <= dist.2) {\n",
    "            loc.1.x[length(loc.1.x) + 1] <- x\n",
    "            loc.1.y[length(loc.1.y) + 1] <- y\n",
    "        } else {\n",
    "            loc.2.x[length(loc.2.x) + 1] <- x\n",
    "            loc.2.y[length(loc.2.y) + 1] <- y\n",
    "        }\n",
    "    }\n",
    "}\n",
    "\n",
    "plot(loc.1.y ~ loc.1.x, xlim=c(-10, 10), ylim=c(-10, 10), xlab=\"X\", ylab=\"Y\")\n",
    "points(loc.2.y ~ loc.2.x, col=\"blue\")"
   ]
  }
 ],
 "metadata": {
  "kernelspec": {
   "display_name": "R",
   "language": "R",
   "name": "ir"
  },
  "language_info": {
   "codemirror_mode": "r",
   "file_extension": ".r",
   "mimetype": "text/x-r-source",
   "name": "R",
   "pygments_lexer": "r",
   "version": "3.6.1"
  }
 },
 "nbformat": 4,
 "nbformat_minor": 4
}