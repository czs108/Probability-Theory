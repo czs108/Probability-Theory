{
 "cells": [
  {
   "attachments": {},
   "cell_type": "markdown",
   "metadata": {},
   "source": [
    "# Geometric Distribution - Snowboarding\n",
    "\n",
    "> This document is written in *R*.\n",
    ">\n",
    "> ***GitHub***: https://github.com/czs108"
   ]
  },
  {
   "cell_type": "markdown",
   "metadata": {},
   "source": [
    "## Definition\n",
    "\n",
    "\\begin{equation}\n",
    "P(X = r) = (1 - p)^{r - 1} \\cdot p\n",
    "\\end{equation}\n",
    "\n",
    "\\begin{align}\n",
    "X &= \\text{The number of trials needed to get the first successful outcome.} \\\\\n",
    "p &= \\text{The probability of a success on an individual trial.}\n",
    "\\end{align}\n",
    "\n",
    "If a variable $X$ follows a *Geometric Distribution* where the probability of *success* in a trial is $p$, this can be written as\n",
    "\n",
    "\\begin{equation}\n",
    "X \\sim Geo(p)\n",
    "\\end{equation}\n",
    "\n",
    "For inequalities:\n",
    "\n",
    "\\begin{equation}\n",
    "P(X > r) = (1 - p)^{r}\n",
    "\\end{equation}\n",
    "\n",
    "In order for more than $r$ trials to be needed, this means that the first $r$ trials must have ended in *failure*. \n",
    "\n",
    "\\begin{equation}\n",
    "P(X \\leq r) = 1 - (1 - p)^{r}\n",
    "\\end{equation}"
   ]
  },
  {
   "cell_type": "markdown",
   "metadata": {},
   "source": [
    "### Expectation\n",
    "\n",
    "\\begin{equation}\n",
    "E(X) = \\frac{1}{p}\n",
    "\\end{equation}"
   ]
  },
  {
   "cell_type": "markdown",
   "metadata": {},
   "source": [
    "### Variance\n",
    "\n",
    "\\begin{equation}\n",
    "Var(X) = \\frac{(1 - p)}{p^{2}}\n",
    "\\end{equation}"
   ]
  },
  {
   "cell_type": "markdown",
   "metadata": {},
   "source": [
    "## Background\n",
    "\n",
    "> The probability $p$ of a snowboarder making a successful run down the slope is **0.4**, and he's going to keep on trying until he succeeds, assuming trials are independent."
   ]
  },
  {
   "cell_type": "code",
   "execution_count": 4,
   "metadata": {
    "vscode": {
     "languageId": "r"
    }
   },
   "outputs": [
    {
     "data": {
      "text/html": [
       "<ol class=list-inline>\n",
       "\t<li>0.4</li>\n",
       "\t<li>0.24</li>\n",
       "\t<li>0.144</li>\n",
       "\t<li>0.0864</li>\n",
       "\t<li>0.05184</li>\n",
       "\t<li>0.031104</li>\n",
       "\t<li>0.0186624</li>\n",
       "\t<li>0.01119744</li>\n",
       "\t<li>0.006718464</li>\n",
       "\t<li>0.0040310784</li>\n",
       "\t<li>0.00241864704</li>\n",
       "\t<li>0.001451188224</li>\n",
       "\t<li>0.0008707129344</li>\n",
       "\t<li>0.00052242776064</li>\n",
       "\t<li>0.000313456656384</li>\n",
       "\t<li>0.0001880739938304</li>\n",
       "\t<li>0.00011284439629824</li>\n",
       "\t<li>6.7706637778944e-05</li>\n",
       "\t<li>4.06239826673664e-05</li>\n",
       "\t<li>2.43743896004198e-05</li>\n",
       "</ol>\n"
      ],
      "text/latex": [
       "\\begin{enumerate*}\n",
       "\\item 0.4\n",
       "\\item 0.24\n",
       "\\item 0.144\n",
       "\\item 0.0864\n",
       "\\item 0.05184\n",
       "\\item 0.031104\n",
       "\\item 0.0186624\n",
       "\\item 0.01119744\n",
       "\\item 0.006718464\n",
       "\\item 0.0040310784\n",
       "\\item 0.00241864704\n",
       "\\item 0.001451188224\n",
       "\\item 0.0008707129344\n",
       "\\item 0.00052242776064\n",
       "\\item 0.000313456656384\n",
       "\\item 0.0001880739938304\n",
       "\\item 0.00011284439629824\n",
       "\\item 6.7706637778944e-05\n",
       "\\item 4.06239826673664e-05\n",
       "\\item 2.43743896004198e-05\n",
       "\\end{enumerate*}\n"
      ],
      "text/markdown": [
       "1. 0.4\n",
       "2. 0.24\n",
       "3. 0.144\n",
       "4. 0.0864\n",
       "5. 0.05184\n",
       "6. 0.031104\n",
       "7. 0.0186624\n",
       "8. 0.01119744\n",
       "9. 0.006718464\n",
       "10. 0.0040310784\n",
       "11. 0.00241864704\n",
       "12. 0.001451188224\n",
       "13. 0.0008707129344\n",
       "14. 0.00052242776064\n",
       "15. 0.000313456656384\n",
       "16. 0.0001880739938304\n",
       "17. 0.00011284439629824\n",
       "18. 6.7706637778944e-05\n",
       "19. 4.06239826673664e-05\n",
       "20. 2.43743896004198e-05\n",
       "\n",
       "\n"
      ],
      "text/plain": [
       " [1] 4.000000e-01 2.400000e-01 1.440000e-01 8.640000e-02 5.184000e-02\n",
       " [6] 3.110400e-02 1.866240e-02 1.119744e-02 6.718464e-03 4.031078e-03\n",
       "[11] 2.418647e-03 1.451188e-03 8.707129e-04 5.224278e-04 3.134567e-04\n",
       "[16] 1.880740e-04 1.128444e-04 6.770664e-05 4.062398e-05 2.437439e-05"
      ]
     },
     "metadata": {},
     "output_type": "display_data"
    }
   ],
   "source": [
    "p <- 0.4\n",
    "count <- c(1:20)\n",
    "\n",
    "probs <- ((1 - p) ^ (count - 1)) * p\n",
    "probs"
   ]
  },
  {
   "cell_type": "markdown",
   "metadata": {},
   "source": [
    "Use the `dgeom` function directly where the `x` is the number of *failures* prior to the first success."
   ]
  },
  {
   "cell_type": "code",
   "execution_count": 5,
   "metadata": {
    "vscode": {
     "languageId": "r"
    }
   },
   "outputs": [
    {
     "data": {
      "text/html": [
       "<ol class=list-inline>\n",
       "\t<li>0.4</li>\n",
       "\t<li>0.24</li>\n",
       "\t<li>0.144</li>\n",
       "\t<li>0.0864</li>\n",
       "\t<li>0.05184</li>\n",
       "\t<li>0.031104</li>\n",
       "</ol>\n"
      ],
      "text/latex": [
       "\\begin{enumerate*}\n",
       "\\item 0.4\n",
       "\\item 0.24\n",
       "\\item 0.144\n",
       "\\item 0.0864\n",
       "\\item 0.05184\n",
       "\\item 0.031104\n",
       "\\end{enumerate*}\n"
      ],
      "text/markdown": [
       "1. 0.4\n",
       "2. 0.24\n",
       "3. 0.144\n",
       "4. 0.0864\n",
       "5. 0.05184\n",
       "6. 0.031104\n",
       "\n",
       "\n"
      ],
      "text/plain": [
       "[1] 0.400000 0.240000 0.144000 0.086400 0.051840 0.031104"
      ]
     },
     "metadata": {},
     "output_type": "display_data"
    }
   ],
   "source": [
    "dgeom(x=c(0:5), prob=p)"
   ]
  },
  {
   "cell_type": "code",
   "execution_count": 6,
   "metadata": {
    "vscode": {
     "languageId": "r"
    }
   },
   "outputs": [
    {
     "data": {
      "image/png": "[encoded data removed]",
      "text/plain": [
       "plot without title"
      ]
     },
     "metadata": {},
     "output_type": "display_data"
    }
   ],
   "source": [
    "barplot(probs, xlab=\"Number of trials when getting the first success\", ylab=\"Probability\")"
   ]
  },
  {
   "attachments": {},
   "cell_type": "markdown",
   "metadata": {},
   "source": [
    "## Question A\n",
    "\n",
    "> What's the probability that he will be successful on his *2nd* attempt, while failing on his *1st*?"
   ]
  },
  {
   "cell_type": "markdown",
   "metadata": {},
   "source": [
    "\\begin{equation}\n",
    "\\begin{split}\n",
    "P(X = 2) &= (1 - p) \\cdot p \\\\\n",
    "    &= 0.6 \\times 0.4 \\\\\n",
    "    &= 0.24\n",
    "\\end{split}\n",
    "\\end{equation}"
   ]
  },
  {
   "cell_type": "code",
   "execution_count": 7,
   "metadata": {
    "vscode": {
     "languageId": "r"
    }
   },
   "outputs": [
    {
     "data": {
      "text/html": [
       "0.24"
      ],
      "text/latex": [
       "0.24"
      ],
      "text/markdown": [
       "0.24"
      ],
      "text/plain": [
       "[1] 0.24"
      ]
     },
     "metadata": {},
     "output_type": "display_data"
    }
   ],
   "source": [
    "dgeom(x=1, prob=p)"
   ]
  },
  {
   "attachments": {},
   "cell_type": "markdown",
   "metadata": {},
   "source": [
    "## Question B\n",
    "\n",
    "> What's the probability that he will be successful in **4** attempts or *fewer*?"
   ]
  },
  {
   "cell_type": "markdown",
   "metadata": {},
   "source": [
    "\\begin{equation}\n",
    "\\begin{split}\n",
    "P(X \\leq 4) &= 1 - P(X > 4) \\\\\n",
    "    &= 1 - (1 - p)^{4} \\\\\n",
    "    &= 1 - 0.6^{4} \\\\\n",
    "    &= 0.8704\n",
    "\\end{split}\n",
    "\\end{equation}"
   ]
  },
  {
   "cell_type": "code",
   "execution_count": 8,
   "metadata": {
    "vscode": {
     "languageId": "r"
    }
   },
   "outputs": [
    {
     "data": {
      "text/html": [
       "0.8704"
      ],
      "text/latex": [
       "0.8704"
      ],
      "text/markdown": [
       "0.8704"
      ],
      "text/plain": [
       "[1] 0.8704"
      ]
     },
     "metadata": {},
     "output_type": "display_data"
    }
   ],
   "source": [
    "sum(dgeom(x=c(0:3), prob=p))"
   ]
  },
  {
   "cell_type": "markdown",
   "metadata": {},
   "source": [
    "Or use the `pgeom` function."
   ]
  },
  {
   "cell_type": "code",
   "execution_count": 9,
   "metadata": {
    "vscode": {
     "languageId": "r"
    }
   },
   "outputs": [
    {
     "data": {
      "text/html": [
       "0.8704"
      ],
      "text/latex": [
       "0.8704"
      ],
      "text/markdown": [
       "0.8704"
      ],
      "text/plain": [
       "[1] 0.8704"
      ]
     },
     "metadata": {},
     "output_type": "display_data"
    }
   ],
   "source": [
    "pgeom(q=3, prob=p)"
   ]
  },
  {
   "attachments": {},
   "cell_type": "markdown",
   "metadata": {},
   "source": [
    "## Question C\n",
    "\n",
    "> What's the probability that he will need *more* than **4** attempts to be successful?"
   ]
  },
  {
   "cell_type": "markdown",
   "metadata": {},
   "source": [
    "\\begin{equation}\n",
    "\\begin{split}\n",
    "P(X > 4) &= (1 - p)^{4} \\\\\n",
    "    &= 0.6^{4} \\\\\n",
    "    &= 0.1296\n",
    "\\end{split}\n",
    "\\end{equation}"
   ]
  },
  {
   "attachments": {},
   "cell_type": "markdown",
   "metadata": {},
   "source": [
    "## Question D\n",
    "\n",
    "> What's the number of attempts he *expects* he'll need to make before being successful?"
   ]
  },
  {
   "cell_type": "markdown",
   "metadata": {},
   "source": [
    "\\begin{equation}\n",
    "\\begin{split}\n",
    "E(X) &= \\frac{1}{p} \\\\\n",
    "    &= \\frac{1}{0.4} \\\\\n",
    "    &= 2.5\n",
    "\\end{split}\n",
    "\\end{equation}"
   ]
  },
  {
   "cell_type": "code",
   "execution_count": 7,
   "metadata": {
    "vscode": {
     "languageId": "r"
    }
   },
   "outputs": [
    {
     "data": {
      "text/html": [
       "2.49917736435099"
      ],
      "text/latex": [
       "2.49917736435099"
      ],
      "text/markdown": [
       "2.49917736435099"
      ],
      "text/plain": [
       "[1] 2.499177"
      ]
     },
     "metadata": {},
     "output_type": "display_data"
    }
   ],
   "source": [
    "mean <- sum(count * probs)\n",
    "mean"
   ]
  },
  {
   "attachments": {},
   "cell_type": "markdown",
   "metadata": {},
   "source": [
    "## Question E\n",
    "\n",
    "> What's the *variance* of the number of attempts?"
   ]
  },
  {
   "cell_type": "markdown",
   "metadata": {},
   "source": [
    "\\begin{equation}\n",
    "\\begin{split}\n",
    "Var(X) &= \\frac{(1 - p)}{p^2} \\\\\n",
    "    &= \\frac{0.6}{0.4^2} \\\\\n",
    "    &= 3.75\n",
    "\\end{split}\n",
    "\\end{equation}"
   ]
  },
  {
   "cell_type": "code",
   "execution_count": 8,
   "metadata": {
    "vscode": {
     "languageId": "r"
    }
   },
   "outputs": [
    {
     "data": {
      "text/html": [
       "3.73523773392841"
      ],
      "text/latex": [
       "3.73523773392841"
      ],
      "text/markdown": [
       "3.73523773392841"
      ],
      "text/plain": [
       "[1] 3.735238"
      ]
     },
     "metadata": {},
     "output_type": "display_data"
    }
   ],
   "source": [
    "var <- sum(((count - mean) ^ 2) * probs)\n",
    "var"
   ]
  }
 ],
 "metadata": {
  "kernelspec": {
   "display_name": "R",
   "language": "R",
   "name": "ir"
  },
  "language_info": {
   "codemirror_mode": "r",
   "file_extension": ".r",
   "mimetype": "text/x-r-source",
   "name": "R",
   "pygments_lexer": "r",
   "version": "3.6.1"
  }
 },
 "nbformat": 4,
 "nbformat_minor": 4
}
