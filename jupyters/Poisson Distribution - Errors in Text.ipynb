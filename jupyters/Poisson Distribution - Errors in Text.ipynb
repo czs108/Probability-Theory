{
 "cells": [
  {
   "cell_type": "markdown",
   "metadata": {},
   "source": [
    "# Poisson Distribution - Errors in Text\n",
    "\n",
    "> This document is written in *R*.\n",
    ">\n",
    "> ***GitHub***: https://github.com/czs108"
   ]
  },
  {
   "cell_type": "markdown",
   "metadata": {},
   "source": [
    "## Background\n",
    "\n",
    "> In a certain long document there is an *average* of **0.5** typographical errors per **100** words of text."
   ]
  },
  {
   "cell_type": "markdown",
   "metadata": {},
   "source": [
    "## Question A\n",
    "\n",
    "> What is the *mean* number of words between errors?"
   ]
  },
  {
   "cell_type": "markdown",
   "metadata": {},
   "source": [
    "\\begin{equation}\n",
    "Mean = \\frac{1}{0.5} \\times 100 = 200\n",
    "\\end{equation}"
   ]
  },
  {
   "cell_type": "markdown",
   "metadata": {},
   "source": [
    "## Question B\n",
    "\n",
    "> What is the probability of finding **4** errors in a text of length **500** words?"
   ]
  },
  {
   "cell_type": "markdown",
   "metadata": {},
   "source": [
    "\\begin{equation}\n",
    "\\lambda = 0.5 \\times \\frac{500}{100} = 2.5\n",
    "\\end{equation}\n",
    "\n",
    "\\begin{equation}\n",
    "\\begin{split}\n",
    "P(X = 4) &= \\frac{e^{-\\lambda} \\cdot {\\lambda}^{4}}{4!} \\\\\n",
    "    &= \\frac{e^{-2.5} \\cdot {2.5}^{4}}{4!}\n",
    "\\end{split}\n",
    "\\end{equation}"
   ]
  },
  {
   "cell_type": "markdown",
   "metadata": {},
   "source": [
    "Use the `dpois` function."
   ]
  },
  {
   "cell_type": "code",
   "execution_count": null,
   "metadata": {},
   "outputs": [],
   "source": [
    "dpois(x=4, lambda=2.5)"
   ]
  },
  {
   "cell_type": "markdown",
   "metadata": {},
   "source": [
    "## Question C\n",
    "\n",
    "> What is the probability of there being *at least* **300** words before the *1st* error?"
   ]
  },
  {
   "cell_type": "markdown",
   "metadata": {},
   "source": [
    "\\begin{equation}\n",
    "\\lambda = 0.5 \\times \\frac{300}{100} = 1.5\n",
    "\\end{equation}\n",
    "\n",
    "\\begin{equation}\n",
    "\\begin{split}\n",
    "P(X = 0) &= \\frac{e^{-\\lambda} \\cdot {\\lambda}^{0}}{0!} \\\\\n",
    "    &= e^{-1.5}\n",
    "\\end{split}\n",
    "\\end{equation}"
   ]
  },
  {
   "cell_type": "code",
   "execution_count": 1,
   "metadata": {},
   "outputs": [
    {
     "data": {
      "text/html": [
       "0.22313016014843"
      ],
      "text/latex": [
       "0.22313016014843"
      ],
      "text/markdown": [
       "0.22313016014843"
      ],
      "text/plain": [
       "[1] 0.2231302"
      ]
     },
     "metadata": {},
     "output_type": "display_data"
    }
   ],
   "source": [
    "dpois(x=0, lambda=1.5)"
   ]
  },
  {
   "cell_type": "markdown",
   "metadata": {},
   "source": [
    "Use the `exp` function."
   ]
  },
  {
   "cell_type": "code",
   "execution_count": 2,
   "metadata": {},
   "outputs": [
    {
     "data": {
      "text/html": [
       "0.22313016014843"
      ],
      "text/latex": [
       "0.22313016014843"
      ],
      "text/markdown": [
       "0.22313016014843"
      ],
      "text/plain": [
       "[1] 0.2231302"
      ]
     },
     "metadata": {},
     "output_type": "display_data"
    }
   ],
   "source": [
    "exp(-1.5)"
   ]
  },
  {
   "cell_type": "markdown",
   "metadata": {},
   "source": [
    "## Question D\n",
    "\n",
    "> What is the *minimum* number of words in which the probability of finding an error is *at least* **90%**?"
   ]
  },
  {
   "cell_type": "markdown",
   "metadata": {},
   "source": [
    "We know that\n",
    "\n",
    "\\begin{equation}\n",
    "P(X = 1) \\geq 0.9\n",
    "\\end{equation}\n",
    "\n",
    "So\n",
    "\n",
    "\\begin{equation}\n",
    "P(X = 0) < 0.1\n",
    "\\end{equation}\n",
    "\n",
    "Assume $n$ is the number of words.\n",
    "\n",
    "\\begin{equation}\n",
    "\\lambda = 0.5 \\times \\frac{n}{100}\n",
    "\\end{equation}\n",
    "\n",
    "\\begin{equation}\n",
    "\\begin{split}\n",
    "P(X = 0) &= \\frac{e^{-\\lambda} \\cdot {\\lambda}^{0}}{0!} \\\\\n",
    "    &= e^{-\\lambda} \\\\\n",
    "    &< 0.1\n",
    "\\end{split}\n",
    "\\end{equation}\n",
    "\n",
    "Then we get\n",
    "\n",
    "\\begin{equation}\n",
    "\\ln 0.1 = -2.3\n",
    "\\end{equation}"
   ]
  },
  {
   "cell_type": "code",
   "execution_count": 3,
   "metadata": {},
   "outputs": [
    {
     "data": {
      "text/html": [
       "-2.30258509299405"
      ],
      "text/latex": [
       "-2.30258509299405"
      ],
      "text/markdown": [
       "-2.30258509299405"
      ],
      "text/plain": [
       "[1] -2.302585"
      ]
     },
     "metadata": {},
     "output_type": "display_data"
    }
   ],
   "source": [
    "log(0.1)"
   ]
  },
  {
   "cell_type": "markdown",
   "metadata": {},
   "source": [
    "When $-\\lambda < -2.3$, $P(X = 0) < 0.1$.\n",
    "\n",
    "So $\\lambda > 2.3$\n",
    "\n",
    "\\begin{equation}\n",
    "n = 200 \\times \\lambda > 460\n",
    "\\end{equation}"
   ]
  },
  {
   "cell_type": "markdown",
   "metadata": {},
   "source": [
    "## Question E\n",
    "\n",
    "> How many words would there be on a page, if the probability of **0** errors on a page was **20%**?"
   ]
  },
  {
   "cell_type": "markdown",
   "metadata": {},
   "source": [
    "Assume $n$ is the number of words on a page."
   ]
  },
  {
   "cell_type": "markdown",
   "metadata": {},
   "source": [
    "\\begin{equation}\n",
    "\\lambda = 0.5 \\times \\frac{n}{100}\n",
    "\\end{equation}\n",
    "\n",
    "\\begin{equation}\n",
    "\\begin{split}\n",
    "P(X = 0) &= \\frac{e^{-\\lambda} \\cdot {\\lambda}^{0}}{0!} \\\\\n",
    "    &= e^{-\\lambda} \\\\\n",
    "    &= 0.2\n",
    "\\end{split}\n",
    "\\end{equation}\n",
    "\n",
    "Then we get\n",
    "\n",
    "\\begin{align}\n",
    "\\ln 0.2 = -\\lambda \\\\\n",
    "\\lambda = 1.609\n",
    "\\end{align}"
   ]
  },
  {
   "cell_type": "code",
   "execution_count": 4,
   "metadata": {},
   "outputs": [
    {
     "data": {
      "text/html": [
       "1.6094379124341"
      ],
      "text/latex": [
       "1.6094379124341"
      ],
      "text/markdown": [
       "1.6094379124341"
      ],
      "text/plain": [
       "[1] 1.609438"
      ]
     },
     "metadata": {},
     "output_type": "display_data"
    }
   ],
   "source": [
    "-log(0.2)"
   ]
  },
  {
   "cell_type": "markdown",
   "metadata": {},
   "source": [
    "\\begin{equation}\n",
    "n = 200 \\times \\lambda = 322\n",
    "\\end{equation}"
   ]
  },
  {
   "cell_type": "markdown",
   "metadata": {},
   "source": [
    "## Question F\n",
    "\n",
    "> What is the probability of there being *at least* **2000** words before there are **10** errors?"
   ]
  },
  {
   "cell_type": "markdown",
   "metadata": {},
   "source": [
    "\\begin{equation}\n",
    "\\lambda = 0.5 \\times \\frac{2000}{100} = 10\n",
    "\\end{equation}\n",
    "\n",
    "\\begin{equation}\n",
    "\\begin{split}\n",
    "P(X \\leq 9) &= \\sum_{i=0}^{9} P(X = i) \\\\\n",
    "    &= \\sum_{i=0}^{9} \\frac{e^{-10} \\cdot {10}^{i}}{i!}\n",
    "\\end{split}\n",
    "\\end{equation}"
   ]
  },
  {
   "cell_type": "code",
   "execution_count": 5,
   "metadata": {},
   "outputs": [
    {
     "data": {
      "text/html": [
       "0.457929714471852"
      ],
      "text/latex": [
       "0.457929714471852"
      ],
      "text/markdown": [
       "0.457929714471852"
      ],
      "text/plain": [
       "[1] 0.4579297"
      ]
     },
     "metadata": {},
     "output_type": "display_data"
    }
   ],
   "source": [
    "sum(dpois(x=c(0:9), lambda=10))"
   ]
  },
  {
   "cell_type": "markdown",
   "metadata": {},
   "source": [
    "Or use the `ppois` function."
   ]
  },
  {
   "cell_type": "code",
   "execution_count": 6,
   "metadata": {},
   "outputs": [
    {
     "data": {
      "text/html": [
       "0.457929714471852"
      ],
      "text/latex": [
       "0.457929714471852"
      ],
      "text/markdown": [
       "0.457929714471852"
      ],
      "text/plain": [
       "[1] 0.4579297"
      ]
     },
     "metadata": {},
     "output_type": "display_data"
    }
   ],
   "source": [
    "ppois(q=9, lambda=10)"
   ]
  }
 ],
 "metadata": {
  "kernelspec": {
   "display_name": "R",
   "language": "R",
   "name": "ir"
  },
  "language_info": {
   "codemirror_mode": "r",
   "file_extension": ".r",
   "mimetype": "text/x-r-source",
   "name": "R",
   "pygments_lexer": "r",
   "version": "3.6.1"
  }
 },
 "nbformat": 4,
 "nbformat_minor": 4
}