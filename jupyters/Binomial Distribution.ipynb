{
 "cells": [
  {
   "cell_type": "markdown",
   "metadata": {},
   "source": [
    "# Binomial Distribution\n",
    "\n",
    "> ***GitHub***: https://github.com/czs108"
   ]
  },
  {
   "cell_type": "markdown",
   "metadata": {},
   "source": [
    "## Definition\n",
    "\n",
    "\\begin{equation}\n",
    "P(X = r) =\\, ^{n}C_{r} \\cdot p^{r} \\cdot (1 - p)^{n - r}\n",
    "\\end{equation}\n",
    "\n",
    "\\begin{align}\n",
    "X &= \\text{The total number of successes.} \\\\\n",
    "p &= \\text{The probability of a success on an individual trial.} \\\\\n",
    "n &= \\text{The number of trials.}\n",
    "\\end{align}\n",
    "\n",
    "If a variable $X$ follows a *Binomial Distribution* where the probability of *success* in a trial is $p$, and $n$ is the *total* number of trials. This can be written as\n",
    "\n",
    "\\begin{equation}\n",
    "X \\sim B(n,\\, p)\n",
    "\\end{equation}"
   ]
  },
  {
   "cell_type": "markdown",
   "metadata": {},
   "source": [
    "## Expectation\n",
    "\n",
    "\\begin{equation}\n",
    "E(X) = np\n",
    "\\end{equation}"
   ]
  },
  {
   "cell_type": "markdown",
   "metadata": {},
   "source": [
    "## Variance\n",
    "\n",
    "\\begin{equation}\n",
    "Var(X) = np \\cdot (1 - p)\n",
    "\\end{equation}"
   ]
  },
  {
   "cell_type": "markdown",
   "metadata": {},
   "source": [
    "## Approximation\n",
    "\n",
    "### Poisson Distribution\n",
    "\n",
    "$X \\sim B(n,\\, p)$ can be approximated by the *Poisson Distribution* $X \\sim Po(np)$ if $n$ is *large* and $p$ is *small*.\n",
    "\n",
    "Because both the *expectation* and *variance* of $X \\sim Po(np)$ are $np$. When $n$ is large and $p$ is small, $(1 - p) \\approx 1$ and for $X \\sim B(n,\\, p)$:\n",
    "\n",
    "\\begin{equation}\n",
    "E(X) = np\n",
    "\\end{equation}\n",
    "\n",
    "\\begin{equation}\n",
    "Var(X) \\approx np\n",
    "\\end{equation}\n",
    "\n",
    "The approximation is typically very close if $n > 50$ and $p < 0.1$."
   ]
  },
  {
   "cell_type": "markdown",
   "metadata": {},
   "source": [
    "### Normal Distribution\n",
    "\n",
    "Suppose $q$ is $(1 - p)$.\n",
    "\n",
    "Normally if $np > 5$ and $nq > 5$, $X \\sim B(n,\\, p)$ also can be approximated by the *Normal Distribution* $X \\sim N(np,\\, npq)$."
   ]
  }
 ],
 "metadata": {
  "kernelspec": {
   "display_name": "R",
   "language": "R",
   "name": "ir"
  },
  "language_info": {
   "codemirror_mode": "r",
   "file_extension": ".r",
   "mimetype": "text/x-r-source",
   "name": "R",
   "pygments_lexer": "r",
   "version": "3.6.1"
  }
 },
 "nbformat": 4,
 "nbformat_minor": 4
}