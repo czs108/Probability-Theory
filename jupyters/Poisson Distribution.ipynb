{
 "cells": [
  {
   "cell_type": "markdown",
   "metadata": {},
   "source": [
    "# Poisson Distribution\n",
    "\n",
    "> ***GitHub***: https://github.com/czs108"
   ]
  },
  {
   "cell_type": "markdown",
   "metadata": {},
   "source": [
    "## Definition\n",
    "\n",
    "\\begin{equation}\n",
    "P(X = r) = \\frac{e^{-\\lambda} \\cdot {\\lambda}^{r}}{r!}\n",
    "\\end{equation}\n",
    "\n",
    "\\begin{equation}\n",
    "\\lambda = \\text{The mean number of occurrences in the interval or the rate of occurrence.}\n",
    "\\end{equation}\n",
    "\n",
    "If a variable $X$ follows a *Poisson Distribution* where the *mean* number of occurrences in the interval or the rate of occurrence is $\\lambda$. This can be written as\n",
    "\n",
    "\\begin{equation}\n",
    "X \\sim Po(\\lambda)\n",
    "\\end{equation}"
   ]
  },
  {
   "cell_type": "markdown",
   "metadata": {},
   "source": [
    "## Expectation\n",
    "\n",
    "\\begin{equation}\n",
    "E(X) = \\lambda\n",
    "\\end{equation}"
   ]
  },
  {
   "cell_type": "markdown",
   "metadata": {},
   "source": [
    "## Variance\n",
    "\n",
    "\\begin{equation}\n",
    "Var(X) = \\lambda\n",
    "\\end{equation}"
   ]
  },
  {
   "cell_type": "markdown",
   "metadata": {},
   "source": [
    "## Approximation\n",
    "\n",
    "A *Binomial Distribution* $X \\sim B(n,\\, p)$ can be approximated by $X \\sim Po(np)$ if $n$ is *large* and $p$ is *small*.\n",
    "\n",
    "Because both the *expectation* and *variance* of $X \\sim Po(np)$ are $np$. When $n$ is large and $p$ is small, $(1 - p) \\approx 1$ and for $X \\sim B(n,\\, p)$:\n",
    "\n",
    "\\begin{equation}\n",
    "E(X) = np\n",
    "\\end{equation}\n",
    "\n",
    "\\begin{equation}\n",
    "Var(X) \\approx np\n",
    "\\end{equation}\n",
    "\n",
    "The approximation is typically very close if $n > 50$ and $p < 0.1$."
   ]
  }
 ],
 "metadata": {
  "kernelspec": {
   "display_name": "R",
   "language": "R",
   "name": "ir"
  },
  "language_info": {
   "codemirror_mode": "r",
   "file_extension": ".r",
   "mimetype": "text/x-r-source",
   "name": "R",
   "pygments_lexer": "r",
   "version": "3.6.1"
  }
 },
 "nbformat": 4,
 "nbformat_minor": 4
}