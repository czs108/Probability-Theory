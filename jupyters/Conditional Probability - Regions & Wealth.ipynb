{
 "cells": [
  {
   "cell_type": "markdown",
   "metadata": {},
   "source": [
    "# Conditional Probability - Regions & Wealth\n",
    "\n",
    "> This document is written in *R*.\n",
    ">\n",
    "> ***GitHub***: https://github.com/czs108"
   ]
  },
  {
   "cell_type": "markdown",
   "metadata": {},
   "source": [
    "## Background\n",
    "\n",
    "> The following table gives the *mean wealth* and *percentage population* in various *regions* of a fictitious country.\n",
    ">\n",
    "> |   Region   | Ashire | Bshire | Cshire | West Toptown | East Toptown | South Toptown | North Toptown |\n",
    "> | :--------: | :----: | :----: | :----: | :----------: | :----------: | :-----------: | :-----------: |\n",
    "> | **Wealth** |   80   |  110   |  110   |      70      |     120      |      90       |      110      |\n",
    "> |  **Pop**   |  15%   |  20%   |  20%   |     10%      |     10%      |      10%      |      15%      |"
   ]
  },
  {
   "cell_type": "code",
   "execution_count": 1,
   "metadata": {},
   "outputs": [],
   "source": [
    "wealth.all <- c(80, 110, 110, 70, 120, 90, 110)\n",
    "probs.all <- c(0.15, 0.20, 0.20, 0.10, 0.10, 0.10, 0.15)"
   ]
  },
  {
   "cell_type": "markdown",
   "metadata": {},
   "source": [
    "## Question A\n",
    "\n",
    "> What are the *mean* and *variance* of the *wealth* for the *whole* country?"
   ]
  },
  {
   "cell_type": "code",
   "execution_count": 2,
   "metadata": {},
   "outputs": [
    {
     "name": "stdout",
     "output_type": "stream",
     "text": [
      "[1] Mean = 100.5\n",
      "[1] Variance = 254.8\n"
     ]
    }
   ],
   "source": [
    "mean.all <- sum(wealth.all * probs.all)\n",
    "var.all <- sum(((wealth.all - mean.all) ^ 2) * probs.all)\n",
    "\n",
    "print(sprintf(\"Mean = %.1f\", mean.all), quote=FALSE)\n",
    "print(sprintf(\"Variance = %.1f\", var.all), quote=FALSE)"
   ]
  },
  {
   "cell_type": "markdown",
   "metadata": {},
   "source": [
    "## Question B\n",
    "\n",
    "> What are the *mean* and *variance* of the *wealth* for those who live in *Toptown*?"
   ]
  },
  {
   "cell_type": "markdown",
   "metadata": {},
   "source": [
    "Make the probabilities add up to **1**."
   ]
  },
  {
   "cell_type": "code",
   "execution_count": 3,
   "metadata": {},
   "outputs": [
    {
     "data": {
      "text/html": [
       "1"
      ],
      "text/latex": [
       "1"
      ],
      "text/markdown": [
       "1"
      ],
      "text/plain": [
       "[1] 1"
      ]
     },
     "metadata": {},
     "output_type": "display_data"
    }
   ],
   "source": [
    "probs.tp <- probs.all[4:7]\n",
    "probs.tp <- probs.tp / sum(probs.tp)\n",
    "\n",
    "sum(probs.tp)"
   ]
  },
  {
   "cell_type": "code",
   "execution_count": 4,
   "metadata": {},
   "outputs": [
    {
     "name": "stdout",
     "output_type": "stream",
     "text": [
      "[1] Mean = 98.9\n",
      "[1] Variance = 343.2\n"
     ]
    }
   ],
   "source": [
    "wealth.tp <- wealth.all[4:7]\n",
    "\n",
    "mean.tp <- sum(wealth.tp * probs.tp)\n",
    "var.tp <- sum(((wealth.tp - mean.tp) ^ 2) * probs.tp)\n",
    "\n",
    "print(sprintf(\"Mean = %.1f\", mean.tp), quote=FALSE)\n",
    "print(sprintf(\"Variance = %.1f\", var.tp), quote=FALSE)"
   ]
  },
  {
   "cell_type": "markdown",
   "metadata": {},
   "source": [
    "## Question C\n",
    "\n",
    "> What is the probability of living in an area with $\\text{mean wealth} > 100$ if you live in *Toptown*?"
   ]
  },
  {
   "cell_type": "markdown",
   "metadata": {},
   "source": [
    "\\begin{equation}\n",
    "\\begin{split}\n",
    "P &= \\frac{P(live\\ in\\ Toptown\\, \\cap\\, wealth > 100)}{P(live\\ in\\ Toptown)} \\\\\n",
    "    &= \\frac{10\\% + 15\\%}{10\\% + 10\\% + 10\\% + 15\\%} \\\\\n",
    "    &= \\frac{25\\%}{45\\%}\n",
    "\\end{split}\n",
    "\\end{equation}"
   ]
  },
  {
   "cell_type": "markdown",
   "metadata": {},
   "source": [
    "## Question D\n",
    "\n",
    "> What is the probability that you live in *Toptown* given that you live in an area with $\\text{mean wealth} > 100$?"
   ]
  },
  {
   "cell_type": "markdown",
   "metadata": {},
   "source": [
    "\\begin{equation}\n",
    "\\begin{split}\n",
    "P &= \\frac{P(live\\ in\\ Toptown\\, \\cap\\, wealth > 100)}{P(wealth > 100)} \\\\\n",
    "    &= \\frac{10\\% + 15\\%}{20\\% + 20\\% + 10\\% + 15\\%} \\\\\n",
    "    &= \\frac{25\\%}{65\\%}\n",
    "\\end{split}\n",
    "\\end{equation}"
   ]
  }
 ],
 "metadata": {
  "kernelspec": {
   "display_name": "R",
   "language": "R",
   "name": "ir"
  },
  "language_info": {
   "codemirror_mode": "r",
   "file_extension": ".r",
   "mimetype": "text/x-r-source",
   "name": "R",
   "pygments_lexer": "r",
   "version": "3.6.1"
  }
 },
 "nbformat": 4,
 "nbformat_minor": 4
}