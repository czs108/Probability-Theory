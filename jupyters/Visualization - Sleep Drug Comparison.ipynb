{
 "cells": [
  {
   "cell_type": "markdown",
   "metadata": {},
   "source": [
    "# Sleep Drug Comparison\n",
    "\n",
    "> This document is written in *R*.\n",
    ">\n",
    "> ***GitHub***: https://github.com/czs108"
   ]
  },
  {
   "cell_type": "markdown",
   "metadata": {},
   "source": [
    "## About the Dataset"
   ]
  },
  {
   "cell_type": "code",
   "execution_count": 1,
   "metadata": {},
   "outputs": [
    {
     "data": {
      "text/html": [
       "<table>\n",
       "<thead><tr><th scope=col>extra</th><th scope=col>group</th><th scope=col>ID</th></tr></thead>\n",
       "<tbody>\n",
       "\t<tr><td> 0.7</td><td>1   </td><td>1   </td></tr>\n",
       "\t<tr><td>-1.6</td><td>1   </td><td>2   </td></tr>\n",
       "\t<tr><td>-0.2</td><td>1   </td><td>3   </td></tr>\n",
       "\t<tr><td>-1.2</td><td>1   </td><td>4   </td></tr>\n",
       "\t<tr><td>-0.1</td><td>1   </td><td>5   </td></tr>\n",
       "\t<tr><td> 3.4</td><td>1   </td><td>6   </td></tr>\n",
       "\t<tr><td> 3.7</td><td>1   </td><td>7   </td></tr>\n",
       "\t<tr><td> 0.8</td><td>1   </td><td>8   </td></tr>\n",
       "\t<tr><td> 0.0</td><td>1   </td><td>9   </td></tr>\n",
       "\t<tr><td> 2.0</td><td>1   </td><td>10  </td></tr>\n",
       "\t<tr><td> 1.9</td><td>2   </td><td>1   </td></tr>\n",
       "\t<tr><td> 0.8</td><td>2   </td><td>2   </td></tr>\n",
       "\t<tr><td> 1.1</td><td>2   </td><td>3   </td></tr>\n",
       "\t<tr><td> 0.1</td><td>2   </td><td>4   </td></tr>\n",
       "\t<tr><td>-0.1</td><td>2   </td><td>5   </td></tr>\n",
       "\t<tr><td> 4.4</td><td>2   </td><td>6   </td></tr>\n",
       "\t<tr><td> 5.5</td><td>2   </td><td>7   </td></tr>\n",
       "\t<tr><td> 1.6</td><td>2   </td><td>8   </td></tr>\n",
       "\t<tr><td> 4.6</td><td>2   </td><td>9   </td></tr>\n",
       "\t<tr><td> 3.4</td><td>2   </td><td>10  </td></tr>\n",
       "</tbody>\n",
       "</table>\n"
      ],
      "text/latex": [
       "\\begin{tabular}{r|lll}\n",
       " extra & group & ID\\\\\n",
       "\\hline\n",
       "\t  0.7 & 1    & 1   \\\\\n",
       "\t -1.6 & 1    & 2   \\\\\n",
       "\t -0.2 & 1    & 3   \\\\\n",
       "\t -1.2 & 1    & 4   \\\\\n",
       "\t -0.1 & 1    & 5   \\\\\n",
       "\t  3.4 & 1    & 6   \\\\\n",
       "\t  3.7 & 1    & 7   \\\\\n",
       "\t  0.8 & 1    & 8   \\\\\n",
       "\t  0.0 & 1    & 9   \\\\\n",
       "\t  2.0 & 1    & 10  \\\\\n",
       "\t  1.9 & 2    & 1   \\\\\n",
       "\t  0.8 & 2    & 2   \\\\\n",
       "\t  1.1 & 2    & 3   \\\\\n",
       "\t  0.1 & 2    & 4   \\\\\n",
       "\t -0.1 & 2    & 5   \\\\\n",
       "\t  4.4 & 2    & 6   \\\\\n",
       "\t  5.5 & 2    & 7   \\\\\n",
       "\t  1.6 & 2    & 8   \\\\\n",
       "\t  4.6 & 2    & 9   \\\\\n",
       "\t  3.4 & 2    & 10  \\\\\n",
       "\\end{tabular}\n"
      ],
      "text/markdown": [
       "\n",
       "| extra | group | ID |\n",
       "|---|---|---|\n",
       "|  0.7 | 1    | 1    |\n",
       "| -1.6 | 1    | 2    |\n",
       "| -0.2 | 1    | 3    |\n",
       "| -1.2 | 1    | 4    |\n",
       "| -0.1 | 1    | 5    |\n",
       "|  3.4 | 1    | 6    |\n",
       "|  3.7 | 1    | 7    |\n",
       "|  0.8 | 1    | 8    |\n",
       "|  0.0 | 1    | 9    |\n",
       "|  2.0 | 1    | 10   |\n",
       "|  1.9 | 2    | 1    |\n",
       "|  0.8 | 2    | 2    |\n",
       "|  1.1 | 2    | 3    |\n",
       "|  0.1 | 2    | 4    |\n",
       "| -0.1 | 2    | 5    |\n",
       "|  4.4 | 2    | 6    |\n",
       "|  5.5 | 2    | 7    |\n",
       "|  1.6 | 2    | 8    |\n",
       "|  4.6 | 2    | 9    |\n",
       "|  3.4 | 2    | 10   |\n",
       "\n"
      ],
      "text/plain": [
       "   extra group ID\n",
       "1   0.7  1     1 \n",
       "2  -1.6  1     2 \n",
       "3  -0.2  1     3 \n",
       "4  -1.2  1     4 \n",
       "5  -0.1  1     5 \n",
       "6   3.4  1     6 \n",
       "7   3.7  1     7 \n",
       "8   0.8  1     8 \n",
       "9   0.0  1     9 \n",
       "10  2.0  1     10\n",
       "11  1.9  2     1 \n",
       "12  0.8  2     2 \n",
       "13  1.1  2     3 \n",
       "14  0.1  2     4 \n",
       "15 -0.1  2     5 \n",
       "16  4.4  2     6 \n",
       "17  5.5  2     7 \n",
       "18  1.6  2     8 \n",
       "19  4.6  2     9 \n",
       "20  3.4  2     10"
      ]
     },
     "metadata": {},
     "output_type": "display_data"
    }
   ],
   "source": [
    "sleep"
   ]
  },
  {
   "cell_type": "markdown",
   "metadata": {},
   "source": [
    "You can use the `?sleep` command to get the help.\n",
    "\n",
    "Use the following functions to get numerical data."
   ]
  },
  {
   "cell_type": "code",
   "execution_count": 2,
   "metadata": {},
   "outputs": [],
   "source": [
    "ShowStatistics <- function(group_id) {\n",
    "    data <- with(sleep, extra[group == group_id])\n",
    "    print(sprintf(\"Mean = %.2f\", mean(data)), quote=FALSE)\n",
    "    print(sprintf(\"Median = %.2f\", median(data)), quote=FALSE)\n",
    "    print(sprintf(\"1st quantile = %.2f\", quantile(data, 0.25)), quote=FALSE)\n",
    "    print(sprintf(\"3rd quantile = %.2f\", quantile(data, 0.75)), quote=FALSE)\n",
    "    print(sprintf(\"Range = %.2f\", diff(range(data))), quote=FALSE)\n",
    "    print(sprintf(\"Standard deviation = %.2f\", sd(data)), quote=FALSE)\n",
    "    print(sprintf(\"Variance = %.2f\", var(data)), quote=FALSE)\n",
    "}"
   ]
  },
  {
   "cell_type": "code",
   "execution_count": 3,
   "metadata": {},
   "outputs": [
    {
     "name": "stdout",
     "output_type": "stream",
     "text": [
      "[1] Mean = 0.75\n",
      "[1] Median = 0.35\n",
      "[1] 1st quantile = -0.18\n",
      "[1] 3rd quantile = 1.70\n",
      "[1] Range = 5.30\n",
      "[1] Standard deviation = 1.79\n",
      "[1] Variance = 3.20\n"
     ]
    }
   ],
   "source": [
    "ShowStatistics(1)"
   ]
  },
  {
   "cell_type": "code",
   "execution_count": 4,
   "metadata": {},
   "outputs": [
    {
     "name": "stdout",
     "output_type": "stream",
     "text": [
      "[1] Mean = 2.33\n",
      "[1] Median = 1.75\n",
      "[1] 1st quantile = 0.88\n",
      "[1] 3rd quantile = 4.15\n",
      "[1] Range = 5.60\n",
      "[1] Standard deviation = 2.00\n",
      "[1] Variance = 4.01\n"
     ]
    }
   ],
   "source": [
    "ShowStatistics(2)"
   ]
  },
  {
   "cell_type": "markdown",
   "metadata": {},
   "source": [
    "## Question A\n",
    "\n",
    "Create a figure with **2** boxplots alongside each other. The first boxplot should be for the data for drug *1* and the second for drug *2*."
   ]
  },
  {
   "cell_type": "code",
   "execution_count": 5,
   "metadata": {},
   "outputs": [
    {
     "data": {
      "image/png": "[encoded data removed]",
      "text/plain": [
       "plot without title"
      ]
     },
     "metadata": {},
     "output_type": "display_data"
    }
   ],
   "source": [
    "with(sleep, boxplot(extra ~ group, xlab=\"Drug\", ylab=\"Hours\"))"
   ]
  },
  {
   "cell_type": "markdown",
   "metadata": {},
   "source": [
    "## Question B\n",
    "\n",
    "Create **2** histograms one above the other. The first histogram should be for drug *1* and the second for drug *2*. You should make sure that the breaks between the bins are the same in the histograms."
   ]
  },
  {
   "cell_type": "code",
   "execution_count": 6,
   "metadata": {},
   "outputs": [
    {
     "data": {
      "image/png": "[encoded data removed]",
      "text/plain": [
       "Plot with title \"Group 2\""
      ]
     },
     "metadata": {},
     "output_type": "display_data"
    }
   ],
   "source": [
    "par(mfrow=c(2, 1))\n",
    "with(sleep, hist(extra[group == 1], main=\"Group 1\", xlab=\"Hours\", ylab=\"Patients\", ylim=c(0, 4), xlim=c(-2, 6)))\n",
    "with(sleep, hist(extra[group == 2], main=\"Group 2\", xlab=\"Hours\", ylab=\"Patients\", ylim=c(0, 4), xlim=c(-2, 6)))"
   ]
  },
  {
   "cell_type": "markdown",
   "metadata": {},
   "source": [
    "## Question C\n",
    "\n",
    "Create a scatterplot of the data for drug *1* against the data for drug *2*."
   ]
  },
  {
   "cell_type": "code",
   "execution_count": 7,
   "metadata": {},
   "outputs": [
    {
     "data": {
      "image/png": "[encoded data removed]",
      "text/plain": [
       "plot without title"
      ]
     },
     "metadata": {},
     "output_type": "display_data"
    }
   ],
   "source": [
    "with(sleep, plot(extra[group == 1], extra[group == 2], xlab=\"Hours of Drug 1\", ylab=\"Hours of Drug 2\", xlim=c(-2, 6), ylim=c(-2, 6)))"
   ]
  },
  {
   "cell_type": "markdown",
   "metadata": {},
   "source": [
    "## Question D\n",
    "\n",
    "Create stem-and-leaf plots of the data for drug *1* and the data for drug *2*."
   ]
  },
  {
   "cell_type": "code",
   "execution_count": 8,
   "metadata": {},
   "outputs": [
    {
     "name": "stdout",
     "output_type": "stream",
     "text": [
      "\n",
      "  The decimal point is at the |\n",
      "\n",
      "  -0 | 6221\n",
      "   0 | 078\n",
      "   2 | 047\n",
      "\n"
     ]
    }
   ],
   "source": [
    "with(sleep, stem(extra[group == 1]))"
   ]
  },
  {
   "cell_type": "code",
   "execution_count": 9,
   "metadata": {},
   "outputs": [
    {
     "name": "stdout",
     "output_type": "stream",
     "text": [
      "\n",
      "  The decimal point is at the |\n",
      "\n",
      "  -0 | 1\n",
      "   0 | 18169\n",
      "   2 | 4\n",
      "   4 | 465\n",
      "\n"
     ]
    }
   ],
   "source": [
    "with(sleep, stem(extra[group == 2]))"
   ]
  }
 ],
 "metadata": {
  "kernelspec": {
   "display_name": "R",
   "language": "R",
   "name": "ir"
  },
  "language_info": {
   "codemirror_mode": "r",
   "file_extension": ".r",
   "mimetype": "text/x-r-source",
   "name": "R",
   "pygments_lexer": "r",
   "version": "3.6.1"
  }
 },
 "nbformat": 4,
 "nbformat_minor": 4
}