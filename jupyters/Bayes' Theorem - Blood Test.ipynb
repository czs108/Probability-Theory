{
 "cells": [
  {
   "cell_type": "markdown",
   "metadata": {},
   "source": [
    "# Bayes' Theorem - Blood Test\n",
    "\n",
    "> This document is written in *R*.\n",
    ">\n",
    "> ***GitHub***: https://github.com/czs108"
   ]
  },
  {
   "cell_type": "markdown",
   "metadata": {},
   "source": [
    "## Background\n",
    "\n",
    "> In a certain clinic **0.15** of the patients have a certain *virus*. Suppose a blood test is carried out on a patient.\n",
    ">\n",
    "> If the patient has got the virus the test will turn out *positive* with probability **0.95**. If the patient does *not* have the virus the test will turn out *positive* with probability **0.02**."
   ]
  },
  {
   "cell_type": "markdown",
   "metadata": {},
   "source": [
    "## Question A\n",
    "\n",
    "> Calculate the probability that a patient will have a *positive* test."
   ]
  },
  {
   "attachments": {},
   "cell_type": "markdown",
   "metadata": {},
   "source": [
    "Give the events the following labels:\n",
    "\n",
    "\\begin{align}\n",
    "V &= \\text{The patient has got the virus.} \\\\\n",
    "P &= \\text{The outcome of the test is positive.}\n",
    "\\end{align}\n",
    "\n",
    "According to the background:\n",
    "\n",
    "\\begin{align}\n",
    "P(V) = 0.15 \\\\\n",
    "P(P \\mid V) = 0.95 \\\\\n",
    "P(P \\mid \\overline{V}) = 0.02\n",
    "\\end{align}"
   ]
  },
  {
   "attachments": {},
   "cell_type": "markdown",
   "metadata": {},
   "source": [
    "There are 2 situations that the outcome of the test can be *positive*.\n",
    "\n",
    "\\begin{equation}\n",
    "\\begin{split}\n",
    "P(P) &= P(V \\cap P) + P(\\overline{V} \\cap P) \\\\\n",
    "    &= P(V) \\cdot P(P \\mid V) + P(\\overline{V}) \\cdot P(P \\mid \\overline{V}) \\\\\n",
    "    &= 0.15 \\times 0.95 + 0.85 \\times 0.02 \\\\\n",
    "    &= 0.1595\n",
    "\\end{split}\n",
    "\\end{equation}"
   ]
  },
  {
   "cell_type": "markdown",
   "metadata": {},
   "source": [
    "## Question B\n",
    "\n",
    "> If the test is *positive* then:"
   ]
  },
  {
   "attachments": {},
   "cell_type": "markdown",
   "metadata": {},
   "source": [
    "### Question 1\n",
    "\n",
    "> What is the probability that the patient has the virus?"
   ]
  },
  {
   "attachments": {},
   "cell_type": "markdown",
   "metadata": {},
   "source": [
    "\\begin{equation}\n",
    "\\begin{split}\n",
    "P(V \\mid P) &= \\frac{P(P \\mid V) \\cdot P(V)}{P(P)} \\\\\n",
    "    &= \\frac{0.95 \\times 0.15}{0.1595} \\\\\n",
    "    &= 0.8934\n",
    "\\end{split}\n",
    "\\end{equation}"
   ]
  },
  {
   "attachments": {},
   "cell_type": "markdown",
   "metadata": {},
   "source": [
    "### Question 2\n",
    "\n",
    "> What is the probability that the patient does *not* have the virus?"
   ]
  },
  {
   "attachments": {},
   "cell_type": "markdown",
   "metadata": {},
   "source": [
    "\\begin{equation}\n",
    "\\begin{split}\n",
    "P(\\overline{V} \\mid P)\n",
    "    &= 1 - P(V \\mid P) \\\\\n",
    "    &= 0.1066\n",
    "\\end{split}\n",
    "\\end{equation}"
   ]
  },
  {
   "cell_type": "markdown",
   "metadata": {},
   "source": [
    "## Question C\n",
    "\n",
    "> If the test is *negative* then:"
   ]
  },
  {
   "attachments": {},
   "cell_type": "markdown",
   "metadata": {},
   "source": [
    "### Question 1\n",
    "\n",
    "> What is the probability that the patient has the virus?"
   ]
  },
  {
   "attachments": {},
   "cell_type": "markdown",
   "metadata": {},
   "source": [
    "\\begin{equation}\n",
    "\\begin{split}\n",
    "P(V \\mid \\overline{P}) &= \\frac{P(\\overline{P} \\mid V) \\cdot P(V)}{P(\\overline{P})} \\\\\n",
    "    &= \\frac{(1 - 0.95) \\times 0.15}{1 - 0.1595} \\\\\n",
    "    &= 0.0089\n",
    "\\end{split}\n",
    "\\end{equation}"
   ]
  },
  {
   "cell_type": "markdown",
   "metadata": {},
   "source": [
    "### Question 2\n",
    "\n",
    "> What is the probability that the patient does *not* have the virus?"
   ]
  },
  {
   "attachments": {},
   "cell_type": "markdown",
   "metadata": {},
   "source": [
    "\\begin{equation}\n",
    "\\begin{split}\n",
    "P(\\overline{V} \\mid \\overline{P})\n",
    "    &= 1 - P(V \\mid \\overline{P}) \\\\\n",
    "    &= 0.9911\n",
    "\\end{split}\n",
    "\\end{equation}"
   ]
  },
  {
   "cell_type": "markdown",
   "metadata": {},
   "source": [
    "## Question D\n",
    "\n",
    "> Write some *R* code which simulates the possible outcomes of a blood test. You can use the following line of example code:\n",
    ">\n",
    "> ```r\n",
    "> if (runif(1) <= 0.15)\n",
    "> ```\n",
    ">\n",
    "> The *R* command `runif(1)` generates a random number between the values **0.0** and **1.0**.\n",
    ">\n",
    "> If this random number is less than or equal to **0.15** then we can say that the patient has the virus, otherwise the patient does *not* have the virus.\n",
    ">\n",
    "> In a similar way, you can decide if the test is *positive* or *negative*.\n",
    ">\n",
    "> Then run this code **100000** times."
   ]
  },
  {
   "cell_type": "code",
   "execution_count": 1,
   "metadata": {
    "vscode": {
     "languageId": "r"
    }
   },
   "outputs": [],
   "source": [
    "Virus <- function(count) {\n",
    "    virus <- rep(FALSE, times=count)\n",
    "    for (i in c(1:count)) {\n",
    "        if (runif(1) < 0.15) {\n",
    "            virus[i] <- TRUE\n",
    "        }\n",
    "    }\n",
    "\n",
    "    return (virus)\n",
    "}\n",
    "\n",
    "Test <- function(virus) {\n",
    "    pos <- rep(FALSE, times=length(virus))\n",
    "    for (i in c(1:length(virus))) {\n",
    "        if (virus[i]) {\n",
    "            if (runif(1) < 0.95) {\n",
    "                pos[i] <- TRUE\n",
    "            }\n",
    "        } else {\n",
    "            if (runif(1) < 0.02) {\n",
    "                pos[i] <- TRUE\n",
    "            }\n",
    "        }\n",
    "    }\n",
    "\n",
    "    return (pos)\n",
    "}\n",
    "\n",
    "count <- 100000\n",
    "virus <- Virus(count)\n",
    "tests <- Test(virus)"
   ]
  },
  {
   "cell_type": "markdown",
   "metadata": {},
   "source": [
    "### Question 1\n",
    "\n",
    "> How often does the test turn out *positive*?"
   ]
  },
  {
   "cell_type": "code",
   "execution_count": 2,
   "metadata": {
    "vscode": {
     "languageId": "r"
    }
   },
   "outputs": [
    {
     "data": {
      "text/html": [
       "0.15743"
      ],
      "text/latex": [
       "0.15743"
      ],
      "text/markdown": [
       "0.15743"
      ],
      "text/plain": [
       "[1] 0.15743"
      ]
     },
     "metadata": {},
     "output_type": "display_data"
    }
   ],
   "source": [
    "sum(tests) / count"
   ]
  },
  {
   "cell_type": "markdown",
   "metadata": {},
   "source": [
    "### Question 2\n",
    " \n",
    "> How often that the patient has the virus if the test is *positive*?"
   ]
  },
  {
   "cell_type": "code",
   "execution_count": 3,
   "metadata": {
    "vscode": {
     "languageId": "r"
    }
   },
   "outputs": [
    {
     "data": {
      "text/html": [
       "0.893539986025535"
      ],
      "text/latex": [
       "0.893539986025535"
      ],
      "text/markdown": [
       "0.893539986025535"
      ],
      "text/plain": [
       "[1] 0.89354"
      ]
     },
     "metadata": {},
     "output_type": "display_data"
    }
   ],
   "source": [
    "sum(tests & virus) / sum(tests)"
   ]
  },
  {
   "cell_type": "markdown",
   "metadata": {},
   "source": [
    "## Question E\n",
    "\n",
    "> Modify the code to include a *2nd* blood test on the patient. You can assume that the *2nd* test is unaffected by the *1st* test.\n",
    ">\n",
    "> Then run this code **100000** times."
   ]
  },
  {
   "cell_type": "code",
   "execution_count": 4,
   "metadata": {
    "vscode": {
     "languageId": "r"
    }
   },
   "outputs": [],
   "source": [
    "tests.1 <- tests\n",
    "tests.2 <- Test(virus)"
   ]
  },
  {
   "cell_type": "markdown",
   "metadata": {},
   "source": [
    "### Question 1\n",
    "\n",
    "> How often do you get two *positive* tests?"
   ]
  },
  {
   "attachments": {},
   "cell_type": "markdown",
   "metadata": {},
   "source": [
    "The two tests are *conditionally independent* under the status of a patient, so:\n",
    "\n",
    "\\begin{equation}\n",
    "P(P_{1} \\cap P_{2} \\mid V) = P(P_{1} \\mid V) \\cdot P(P_{2} \\mid V)\n",
    "\\end{equation}"
   ]
  },
  {
   "attachments": {},
   "cell_type": "markdown",
   "metadata": {},
   "source": [
    "\\begin{equation}\n",
    "\\begin{split}\n",
    "P(P_{1} \\cap P_{2})\n",
    "    &= P(P_{1} \\cap P_{2} \\mid V) \\cdot P(V) + P(P_{1} \\cap P_{2} \\mid \\overline{V}) \\cdot P(\\overline{V}) \\\\\n",
    "    &= P(P_{1} \\mid V) \\cdot P(P_{2} \\mid V) \\cdot P(V)\n",
    "    + P(P_{1} \\mid \\overline{V}) \\cdot P(P_{2} \\mid \\overline{V}) \\cdot P(\\overline{V}) \\\\\n",
    "    &= 0.95 \\times 0.95 \\times 0.15 + 0.02 \\times 0.02 \\times 0.85 \\\\\n",
    "    &= 0.1357\n",
    "\\end{split}\n",
    "\\end{equation}"
   ]
  },
  {
   "cell_type": "code",
   "execution_count": 5,
   "metadata": {
    "vscode": {
     "languageId": "r"
    }
   },
   "outputs": [
    {
     "data": {
      "text/html": [
       "0.13421"
      ],
      "text/latex": [
       "0.13421"
      ],
      "text/markdown": [
       "0.13421"
      ],
      "text/plain": [
       "[1] 0.13421"
      ]
     },
     "metadata": {},
     "output_type": "display_data"
    }
   ],
   "source": [
    "allpos <- sum(tests.1 & tests.2)\n",
    "\n",
    "allpos / count"
   ]
  },
  {
   "cell_type": "markdown",
   "metadata": {},
   "source": [
    "### Question 2\n",
    "\n",
    "> If you get two *positive* tests, how often does the patient have the virus?"
   ]
  },
  {
   "attachments": {},
   "cell_type": "markdown",
   "metadata": {},
   "source": [
    "\\begin{equation}\n",
    "\\begin{split}\n",
    "P(V \\mid P_{1} \\cap P_{2})\n",
    "    &= \\frac{P(P_{1} \\cap P_{2} \\mid V) \\cdot P(V)}{P(P_{1} \\cap P_{2})} \\\\\n",
    "    &= \\frac{0.95 \\times 0.95 \\times 0.15}{0.1357} \\\\\n",
    "    &= 0.9976\n",
    "\\end{split}\n",
    "\\end{equation}"
   ]
  },
  {
   "cell_type": "code",
   "execution_count": 6,
   "metadata": {
    "vscode": {
     "languageId": "r"
    }
   },
   "outputs": [
    {
     "data": {
      "text/html": [
       "0.997317636539751"
      ],
      "text/latex": [
       "0.997317636539751"
      ],
      "text/markdown": [
       "0.997317636539751"
      ],
      "text/plain": [
       "[1] 0.9973176"
      ]
     },
     "metadata": {},
     "output_type": "display_data"
    }
   ],
   "source": [
    "sum(virus & tests.1 & tests.2) / allpos"
   ]
  },
  {
   "cell_type": "markdown",
   "metadata": {},
   "source": [
    "### Question 3\n",
    "\n",
    "> If the *1st* test is *postive* and the *2nd* is *negative*, how often does the patient have the virus?"
   ]
  },
  {
   "attachments": {},
   "cell_type": "markdown",
   "metadata": {},
   "source": [
    "According to *conditional independence*:\n",
    "\n",
    "\\begin{equation}\n",
    "P(P_{1} \\cap \\overline{P_{2}} \\mid V) = P(P_{1} \\mid V) \\cdot P(\\overline{P_{2}} \\mid V)\n",
    "\\end{equation}"
   ]
  },
  {
   "attachments": {},
   "cell_type": "markdown",
   "metadata": {},
   "source": [
    "Then:\n",
    "\n",
    "\\begin{equation}\n",
    "\\begin{split}\n",
    "P(P_{1} \\cap \\overline{P_{2}})\n",
    "    &= P(P_{1} \\cap \\overline{P_{2}} \\mid V) \\cdot P(V) + P(P_{1} \\cap \\overline{P_{2}} \\mid \\overline{V}) \\cdot P(\\overline{V}) \\\\\n",
    "    &= P(P_{1} \\mid V) \\cdot P(\\overline{P_{2}} \\mid V) \\cdot P(V)\n",
    "    + P(P_{1} \\mid \\overline{V}) \\cdot P(\\overline{P_{2}} \\mid \\overline{V}) \\cdot P(\\overline{V}) \\\\\n",
    "    &= 0.95 \\times 0.05 \\times 0.15 + 0.02 \\times 0.98 \\times 0.85 \\\\\n",
    "    &= 0.0238\n",
    "\\end{split}\n",
    "\\end{equation}\n",
    "\n",
    "\\begin{equation}\n",
    "\\begin{split}\n",
    "P(V \\mid P_{1} \\cap \\overline{P_{2}})\n",
    "    &= \\frac{P(P_{1} \\cap \\overline{P_{2}} \\mid V) \\cdot P(V)}{P(P_{1} \\cap \\overline{P_{2}})} \\\\\n",
    "    &= \\frac{0.95 \\times 0.05 \\times 0.15}{0.0238} \\\\\n",
    "    &= 0.2994\n",
    "\\end{split}\n",
    "\\end{equation}"
   ]
  },
  {
   "cell_type": "code",
   "execution_count": 7,
   "metadata": {
    "vscode": {
     "languageId": "r"
    }
   },
   "outputs": [
    {
     "data": {
      "text/html": [
       "0.293712316968131"
      ],
      "text/latex": [
       "0.293712316968131"
      ],
      "text/markdown": [
       "0.293712316968131"
      ],
      "text/plain": [
       "[1] 0.2937123"
      ]
     },
     "metadata": {},
     "output_type": "display_data"
    }
   ],
   "source": [
    "sum(virus & tests.1 & !tests.2) / sum(tests.1 & !tests.2)"
   ]
  }
 ],
 "metadata": {
  "kernelspec": {
   "display_name": "R",
   "language": "R",
   "name": "ir"
  },
  "language_info": {
   "codemirror_mode": "r",
   "file_extension": ".r",
   "mimetype": "text/x-r-source",
   "name": "R",
   "pygments_lexer": "r",
   "version": "3.6.1"
  }
 },
 "nbformat": 4,
 "nbformat_minor": 4
}
